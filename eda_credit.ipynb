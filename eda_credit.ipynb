{
 "cells": [
  {
   "cell_type": "code",
   "execution_count": 134,
   "metadata": {},
   "outputs": [],
   "source": [
    "# Imports\n",
    "import pandas as pd\n",
    "import numpy as np\n",
    "import matplotlib.pyplot as plt\n",
    "import seaborn as sns\n",
    "\n",
    "%matplotlib inline\n",
    "\n",
    "import warnings\n",
    "warnings.simplefilter('ignore')"
   ]
  },
  {
   "cell_type": "markdown",
   "metadata": {},
   "source": [
    "### 1. Loading data"
   ]
  },
  {
   "cell_type": "code",
   "execution_count": 135,
   "metadata": {},
   "outputs": [],
   "source": [
    "# Read data\n",
    "prev_apps = pd.read_csv('previous_application.csv')"
   ]
  },
  {
   "cell_type": "code",
   "execution_count": 136,
   "metadata": {},
   "outputs": [
    {
     "data": {
      "text/html": [
       "<div>\n",
       "<style scoped>\n",
       "    .dataframe tbody tr th:only-of-type {\n",
       "        vertical-align: middle;\n",
       "    }\n",
       "\n",
       "    .dataframe tbody tr th {\n",
       "        vertical-align: top;\n",
       "    }\n",
       "\n",
       "    .dataframe thead th {\n",
       "        text-align: right;\n",
       "    }\n",
       "</style>\n",
       "<table border=\"1\" class=\"dataframe\">\n",
       "  <thead>\n",
       "    <tr style=\"text-align: right;\">\n",
       "      <th></th>\n",
       "      <th>SK_ID_PREV</th>\n",
       "      <th>SK_ID_CURR</th>\n",
       "      <th>NAME_CONTRACT_TYPE</th>\n",
       "      <th>AMT_ANNUITY</th>\n",
       "      <th>AMT_APPLICATION</th>\n",
       "      <th>AMT_CREDIT</th>\n",
       "      <th>AMT_DOWN_PAYMENT</th>\n",
       "      <th>AMT_GOODS_PRICE</th>\n",
       "      <th>WEEKDAY_APPR_PROCESS_START</th>\n",
       "      <th>HOUR_APPR_PROCESS_START</th>\n",
       "      <th>...</th>\n",
       "      <th>NAME_SELLER_INDUSTRY</th>\n",
       "      <th>CNT_PAYMENT</th>\n",
       "      <th>NAME_YIELD_GROUP</th>\n",
       "      <th>PRODUCT_COMBINATION</th>\n",
       "      <th>DAYS_FIRST_DRAWING</th>\n",
       "      <th>DAYS_FIRST_DUE</th>\n",
       "      <th>DAYS_LAST_DUE_1ST_VERSION</th>\n",
       "      <th>DAYS_LAST_DUE</th>\n",
       "      <th>DAYS_TERMINATION</th>\n",
       "      <th>NFLAG_INSURED_ON_APPROVAL</th>\n",
       "    </tr>\n",
       "  </thead>\n",
       "  <tbody>\n",
       "    <tr>\n",
       "      <th>0</th>\n",
       "      <td>2030495</td>\n",
       "      <td>271877</td>\n",
       "      <td>Consumer loans</td>\n",
       "      <td>1730.430</td>\n",
       "      <td>17145.0</td>\n",
       "      <td>17145.0</td>\n",
       "      <td>0.0</td>\n",
       "      <td>17145.0</td>\n",
       "      <td>SATURDAY</td>\n",
       "      <td>15</td>\n",
       "      <td>...</td>\n",
       "      <td>Connectivity</td>\n",
       "      <td>12.0</td>\n",
       "      <td>middle</td>\n",
       "      <td>POS mobile with interest</td>\n",
       "      <td>365243.0</td>\n",
       "      <td>-42.0</td>\n",
       "      <td>300.0</td>\n",
       "      <td>-42.0</td>\n",
       "      <td>-37.0</td>\n",
       "      <td>0.0</td>\n",
       "    </tr>\n",
       "    <tr>\n",
       "      <th>1</th>\n",
       "      <td>2802425</td>\n",
       "      <td>108129</td>\n",
       "      <td>Cash loans</td>\n",
       "      <td>25188.615</td>\n",
       "      <td>607500.0</td>\n",
       "      <td>679671.0</td>\n",
       "      <td>NaN</td>\n",
       "      <td>607500.0</td>\n",
       "      <td>THURSDAY</td>\n",
       "      <td>11</td>\n",
       "      <td>...</td>\n",
       "      <td>XNA</td>\n",
       "      <td>36.0</td>\n",
       "      <td>low_action</td>\n",
       "      <td>Cash X-Sell: low</td>\n",
       "      <td>365243.0</td>\n",
       "      <td>-134.0</td>\n",
       "      <td>916.0</td>\n",
       "      <td>365243.0</td>\n",
       "      <td>365243.0</td>\n",
       "      <td>1.0</td>\n",
       "    </tr>\n",
       "    <tr>\n",
       "      <th>2</th>\n",
       "      <td>2523466</td>\n",
       "      <td>122040</td>\n",
       "      <td>Cash loans</td>\n",
       "      <td>15060.735</td>\n",
       "      <td>112500.0</td>\n",
       "      <td>136444.5</td>\n",
       "      <td>NaN</td>\n",
       "      <td>112500.0</td>\n",
       "      <td>TUESDAY</td>\n",
       "      <td>11</td>\n",
       "      <td>...</td>\n",
       "      <td>XNA</td>\n",
       "      <td>12.0</td>\n",
       "      <td>high</td>\n",
       "      <td>Cash X-Sell: high</td>\n",
       "      <td>365243.0</td>\n",
       "      <td>-271.0</td>\n",
       "      <td>59.0</td>\n",
       "      <td>365243.0</td>\n",
       "      <td>365243.0</td>\n",
       "      <td>1.0</td>\n",
       "    </tr>\n",
       "    <tr>\n",
       "      <th>3</th>\n",
       "      <td>2819243</td>\n",
       "      <td>176158</td>\n",
       "      <td>Cash loans</td>\n",
       "      <td>47041.335</td>\n",
       "      <td>450000.0</td>\n",
       "      <td>470790.0</td>\n",
       "      <td>NaN</td>\n",
       "      <td>450000.0</td>\n",
       "      <td>MONDAY</td>\n",
       "      <td>7</td>\n",
       "      <td>...</td>\n",
       "      <td>XNA</td>\n",
       "      <td>12.0</td>\n",
       "      <td>middle</td>\n",
       "      <td>Cash X-Sell: middle</td>\n",
       "      <td>365243.0</td>\n",
       "      <td>-482.0</td>\n",
       "      <td>-152.0</td>\n",
       "      <td>-182.0</td>\n",
       "      <td>-177.0</td>\n",
       "      <td>1.0</td>\n",
       "    </tr>\n",
       "    <tr>\n",
       "      <th>4</th>\n",
       "      <td>1784265</td>\n",
       "      <td>202054</td>\n",
       "      <td>Cash loans</td>\n",
       "      <td>31924.395</td>\n",
       "      <td>337500.0</td>\n",
       "      <td>404055.0</td>\n",
       "      <td>NaN</td>\n",
       "      <td>337500.0</td>\n",
       "      <td>THURSDAY</td>\n",
       "      <td>9</td>\n",
       "      <td>...</td>\n",
       "      <td>XNA</td>\n",
       "      <td>24.0</td>\n",
       "      <td>high</td>\n",
       "      <td>Cash Street: high</td>\n",
       "      <td>NaN</td>\n",
       "      <td>NaN</td>\n",
       "      <td>NaN</td>\n",
       "      <td>NaN</td>\n",
       "      <td>NaN</td>\n",
       "      <td>NaN</td>\n",
       "    </tr>\n",
       "  </tbody>\n",
       "</table>\n",
       "<p>5 rows × 37 columns</p>\n",
       "</div>"
      ],
      "text/plain": [
       "   SK_ID_PREV  SK_ID_CURR NAME_CONTRACT_TYPE  AMT_ANNUITY  AMT_APPLICATION  \\\n",
       "0     2030495      271877     Consumer loans     1730.430          17145.0   \n",
       "1     2802425      108129         Cash loans    25188.615         607500.0   \n",
       "2     2523466      122040         Cash loans    15060.735         112500.0   \n",
       "3     2819243      176158         Cash loans    47041.335         450000.0   \n",
       "4     1784265      202054         Cash loans    31924.395         337500.0   \n",
       "\n",
       "   AMT_CREDIT  AMT_DOWN_PAYMENT  AMT_GOODS_PRICE WEEKDAY_APPR_PROCESS_START  \\\n",
       "0     17145.0               0.0          17145.0                   SATURDAY   \n",
       "1    679671.0               NaN         607500.0                   THURSDAY   \n",
       "2    136444.5               NaN         112500.0                    TUESDAY   \n",
       "3    470790.0               NaN         450000.0                     MONDAY   \n",
       "4    404055.0               NaN         337500.0                   THURSDAY   \n",
       "\n",
       "   HOUR_APPR_PROCESS_START  ... NAME_SELLER_INDUSTRY  CNT_PAYMENT  \\\n",
       "0                       15  ...         Connectivity         12.0   \n",
       "1                       11  ...                  XNA         36.0   \n",
       "2                       11  ...                  XNA         12.0   \n",
       "3                        7  ...                  XNA         12.0   \n",
       "4                        9  ...                  XNA         24.0   \n",
       "\n",
       "   NAME_YIELD_GROUP       PRODUCT_COMBINATION  DAYS_FIRST_DRAWING  \\\n",
       "0            middle  POS mobile with interest            365243.0   \n",
       "1        low_action          Cash X-Sell: low            365243.0   \n",
       "2              high         Cash X-Sell: high            365243.0   \n",
       "3            middle       Cash X-Sell: middle            365243.0   \n",
       "4              high         Cash Street: high                 NaN   \n",
       "\n",
       "  DAYS_FIRST_DUE DAYS_LAST_DUE_1ST_VERSION  DAYS_LAST_DUE DAYS_TERMINATION  \\\n",
       "0          -42.0                     300.0          -42.0            -37.0   \n",
       "1         -134.0                     916.0       365243.0         365243.0   \n",
       "2         -271.0                      59.0       365243.0         365243.0   \n",
       "3         -482.0                    -152.0         -182.0           -177.0   \n",
       "4            NaN                       NaN            NaN              NaN   \n",
       "\n",
       "  NFLAG_INSURED_ON_APPROVAL  \n",
       "0                       0.0  \n",
       "1                       1.0  \n",
       "2                       1.0  \n",
       "3                       1.0  \n",
       "4                       NaN  \n",
       "\n",
       "[5 rows x 37 columns]"
      ]
     },
     "execution_count": 136,
     "metadata": {},
     "output_type": "execute_result"
    }
   ],
   "source": [
    "prev_apps.head()"
   ]
  },
  {
   "cell_type": "code",
   "execution_count": 137,
   "metadata": {},
   "outputs": [
    {
     "data": {
      "text/plain": [
       "(1670214, 37)"
      ]
     },
     "execution_count": 137,
     "metadata": {},
     "output_type": "execute_result"
    }
   ],
   "source": [
    "prev_apps.shape"
   ]
  },
  {
   "cell_type": "code",
   "execution_count": 138,
   "metadata": {},
   "outputs": [],
   "source": [
    "cur_apps = pd.read_csv('application_data.csv')"
   ]
  },
  {
   "cell_type": "code",
   "execution_count": 139,
   "metadata": {},
   "outputs": [
    {
     "data": {
      "text/html": [
       "<div>\n",
       "<style scoped>\n",
       "    .dataframe tbody tr th:only-of-type {\n",
       "        vertical-align: middle;\n",
       "    }\n",
       "\n",
       "    .dataframe tbody tr th {\n",
       "        vertical-align: top;\n",
       "    }\n",
       "\n",
       "    .dataframe thead th {\n",
       "        text-align: right;\n",
       "    }\n",
       "</style>\n",
       "<table border=\"1\" class=\"dataframe\">\n",
       "  <thead>\n",
       "    <tr style=\"text-align: right;\">\n",
       "      <th></th>\n",
       "      <th>SK_ID_CURR</th>\n",
       "      <th>TARGET</th>\n",
       "      <th>NAME_CONTRACT_TYPE</th>\n",
       "      <th>CODE_GENDER</th>\n",
       "      <th>FLAG_OWN_CAR</th>\n",
       "      <th>FLAG_OWN_REALTY</th>\n",
       "      <th>CNT_CHILDREN</th>\n",
       "      <th>AMT_INCOME_TOTAL</th>\n",
       "      <th>AMT_CREDIT</th>\n",
       "      <th>AMT_ANNUITY</th>\n",
       "      <th>...</th>\n",
       "      <th>FLAG_DOCUMENT_18</th>\n",
       "      <th>FLAG_DOCUMENT_19</th>\n",
       "      <th>FLAG_DOCUMENT_20</th>\n",
       "      <th>FLAG_DOCUMENT_21</th>\n",
       "      <th>AMT_REQ_CREDIT_BUREAU_HOUR</th>\n",
       "      <th>AMT_REQ_CREDIT_BUREAU_DAY</th>\n",
       "      <th>AMT_REQ_CREDIT_BUREAU_WEEK</th>\n",
       "      <th>AMT_REQ_CREDIT_BUREAU_MON</th>\n",
       "      <th>AMT_REQ_CREDIT_BUREAU_QRT</th>\n",
       "      <th>AMT_REQ_CREDIT_BUREAU_YEAR</th>\n",
       "    </tr>\n",
       "  </thead>\n",
       "  <tbody>\n",
       "    <tr>\n",
       "      <th>0</th>\n",
       "      <td>100002</td>\n",
       "      <td>1</td>\n",
       "      <td>Cash loans</td>\n",
       "      <td>M</td>\n",
       "      <td>N</td>\n",
       "      <td>Y</td>\n",
       "      <td>0</td>\n",
       "      <td>202500.0</td>\n",
       "      <td>406597.5</td>\n",
       "      <td>24700.5</td>\n",
       "      <td>...</td>\n",
       "      <td>0</td>\n",
       "      <td>0</td>\n",
       "      <td>0</td>\n",
       "      <td>0</td>\n",
       "      <td>0.0</td>\n",
       "      <td>0.0</td>\n",
       "      <td>0.0</td>\n",
       "      <td>0.0</td>\n",
       "      <td>0.0</td>\n",
       "      <td>1.0</td>\n",
       "    </tr>\n",
       "    <tr>\n",
       "      <th>1</th>\n",
       "      <td>100003</td>\n",
       "      <td>0</td>\n",
       "      <td>Cash loans</td>\n",
       "      <td>F</td>\n",
       "      <td>N</td>\n",
       "      <td>N</td>\n",
       "      <td>0</td>\n",
       "      <td>270000.0</td>\n",
       "      <td>1293502.5</td>\n",
       "      <td>35698.5</td>\n",
       "      <td>...</td>\n",
       "      <td>0</td>\n",
       "      <td>0</td>\n",
       "      <td>0</td>\n",
       "      <td>0</td>\n",
       "      <td>0.0</td>\n",
       "      <td>0.0</td>\n",
       "      <td>0.0</td>\n",
       "      <td>0.0</td>\n",
       "      <td>0.0</td>\n",
       "      <td>0.0</td>\n",
       "    </tr>\n",
       "    <tr>\n",
       "      <th>2</th>\n",
       "      <td>100004</td>\n",
       "      <td>0</td>\n",
       "      <td>Revolving loans</td>\n",
       "      <td>M</td>\n",
       "      <td>Y</td>\n",
       "      <td>Y</td>\n",
       "      <td>0</td>\n",
       "      <td>67500.0</td>\n",
       "      <td>135000.0</td>\n",
       "      <td>6750.0</td>\n",
       "      <td>...</td>\n",
       "      <td>0</td>\n",
       "      <td>0</td>\n",
       "      <td>0</td>\n",
       "      <td>0</td>\n",
       "      <td>0.0</td>\n",
       "      <td>0.0</td>\n",
       "      <td>0.0</td>\n",
       "      <td>0.0</td>\n",
       "      <td>0.0</td>\n",
       "      <td>0.0</td>\n",
       "    </tr>\n",
       "    <tr>\n",
       "      <th>3</th>\n",
       "      <td>100006</td>\n",
       "      <td>0</td>\n",
       "      <td>Cash loans</td>\n",
       "      <td>F</td>\n",
       "      <td>N</td>\n",
       "      <td>Y</td>\n",
       "      <td>0</td>\n",
       "      <td>135000.0</td>\n",
       "      <td>312682.5</td>\n",
       "      <td>29686.5</td>\n",
       "      <td>...</td>\n",
       "      <td>0</td>\n",
       "      <td>0</td>\n",
       "      <td>0</td>\n",
       "      <td>0</td>\n",
       "      <td>NaN</td>\n",
       "      <td>NaN</td>\n",
       "      <td>NaN</td>\n",
       "      <td>NaN</td>\n",
       "      <td>NaN</td>\n",
       "      <td>NaN</td>\n",
       "    </tr>\n",
       "    <tr>\n",
       "      <th>4</th>\n",
       "      <td>100007</td>\n",
       "      <td>0</td>\n",
       "      <td>Cash loans</td>\n",
       "      <td>M</td>\n",
       "      <td>N</td>\n",
       "      <td>Y</td>\n",
       "      <td>0</td>\n",
       "      <td>121500.0</td>\n",
       "      <td>513000.0</td>\n",
       "      <td>21865.5</td>\n",
       "      <td>...</td>\n",
       "      <td>0</td>\n",
       "      <td>0</td>\n",
       "      <td>0</td>\n",
       "      <td>0</td>\n",
       "      <td>0.0</td>\n",
       "      <td>0.0</td>\n",
       "      <td>0.0</td>\n",
       "      <td>0.0</td>\n",
       "      <td>0.0</td>\n",
       "      <td>0.0</td>\n",
       "    </tr>\n",
       "  </tbody>\n",
       "</table>\n",
       "<p>5 rows × 122 columns</p>\n",
       "</div>"
      ],
      "text/plain": [
       "   SK_ID_CURR  TARGET NAME_CONTRACT_TYPE CODE_GENDER FLAG_OWN_CAR  \\\n",
       "0      100002       1         Cash loans           M            N   \n",
       "1      100003       0         Cash loans           F            N   \n",
       "2      100004       0    Revolving loans           M            Y   \n",
       "3      100006       0         Cash loans           F            N   \n",
       "4      100007       0         Cash loans           M            N   \n",
       "\n",
       "  FLAG_OWN_REALTY  CNT_CHILDREN  AMT_INCOME_TOTAL  AMT_CREDIT  AMT_ANNUITY  \\\n",
       "0               Y             0          202500.0    406597.5      24700.5   \n",
       "1               N             0          270000.0   1293502.5      35698.5   \n",
       "2               Y             0           67500.0    135000.0       6750.0   \n",
       "3               Y             0          135000.0    312682.5      29686.5   \n",
       "4               Y             0          121500.0    513000.0      21865.5   \n",
       "\n",
       "   ...  FLAG_DOCUMENT_18 FLAG_DOCUMENT_19 FLAG_DOCUMENT_20 FLAG_DOCUMENT_21  \\\n",
       "0  ...                 0                0                0                0   \n",
       "1  ...                 0                0                0                0   \n",
       "2  ...                 0                0                0                0   \n",
       "3  ...                 0                0                0                0   \n",
       "4  ...                 0                0                0                0   \n",
       "\n",
       "  AMT_REQ_CREDIT_BUREAU_HOUR AMT_REQ_CREDIT_BUREAU_DAY  \\\n",
       "0                        0.0                       0.0   \n",
       "1                        0.0                       0.0   \n",
       "2                        0.0                       0.0   \n",
       "3                        NaN                       NaN   \n",
       "4                        0.0                       0.0   \n",
       "\n",
       "   AMT_REQ_CREDIT_BUREAU_WEEK  AMT_REQ_CREDIT_BUREAU_MON  \\\n",
       "0                         0.0                        0.0   \n",
       "1                         0.0                        0.0   \n",
       "2                         0.0                        0.0   \n",
       "3                         NaN                        NaN   \n",
       "4                         0.0                        0.0   \n",
       "\n",
       "   AMT_REQ_CREDIT_BUREAU_QRT  AMT_REQ_CREDIT_BUREAU_YEAR  \n",
       "0                        0.0                         1.0  \n",
       "1                        0.0                         0.0  \n",
       "2                        0.0                         0.0  \n",
       "3                        NaN                         NaN  \n",
       "4                        0.0                         0.0  \n",
       "\n",
       "[5 rows x 122 columns]"
      ]
     },
     "execution_count": 139,
     "metadata": {},
     "output_type": "execute_result"
    }
   ],
   "source": [
    "cur_apps.head()"
   ]
  },
  {
   "cell_type": "code",
   "execution_count": 140,
   "metadata": {},
   "outputs": [
    {
     "data": {
      "text/plain": [
       "(307511, 122)"
      ]
     },
     "execution_count": 140,
     "metadata": {},
     "output_type": "execute_result"
    }
   ],
   "source": [
    "cur_apps.shape"
   ]
  },
  {
   "cell_type": "markdown",
   "metadata": {},
   "source": [
    "### 2. Merge data into single dataframe"
   ]
  },
  {
   "cell_type": "code",
   "execution_count": 141,
   "metadata": {},
   "outputs": [],
   "source": [
    "all_apps = cur_apps.merge(prev_apps, how='left', on='SK_ID_CURR', suffixes=(None, '_PREV'))"
   ]
  },
  {
   "cell_type": "code",
   "execution_count": 142,
   "metadata": {},
   "outputs": [
    {
     "data": {
      "text/html": [
       "<div>\n",
       "<style scoped>\n",
       "    .dataframe tbody tr th:only-of-type {\n",
       "        vertical-align: middle;\n",
       "    }\n",
       "\n",
       "    .dataframe tbody tr th {\n",
       "        vertical-align: top;\n",
       "    }\n",
       "\n",
       "    .dataframe thead th {\n",
       "        text-align: right;\n",
       "    }\n",
       "</style>\n",
       "<table border=\"1\" class=\"dataframe\">\n",
       "  <thead>\n",
       "    <tr style=\"text-align: right;\">\n",
       "      <th></th>\n",
       "      <th>SK_ID_CURR</th>\n",
       "      <th>TARGET</th>\n",
       "      <th>NAME_CONTRACT_TYPE</th>\n",
       "      <th>CODE_GENDER</th>\n",
       "      <th>FLAG_OWN_CAR</th>\n",
       "      <th>FLAG_OWN_REALTY</th>\n",
       "      <th>CNT_CHILDREN</th>\n",
       "      <th>AMT_INCOME_TOTAL</th>\n",
       "      <th>AMT_CREDIT</th>\n",
       "      <th>AMT_ANNUITY</th>\n",
       "      <th>...</th>\n",
       "      <th>NAME_SELLER_INDUSTRY</th>\n",
       "      <th>CNT_PAYMENT</th>\n",
       "      <th>NAME_YIELD_GROUP</th>\n",
       "      <th>PRODUCT_COMBINATION</th>\n",
       "      <th>DAYS_FIRST_DRAWING</th>\n",
       "      <th>DAYS_FIRST_DUE</th>\n",
       "      <th>DAYS_LAST_DUE_1ST_VERSION</th>\n",
       "      <th>DAYS_LAST_DUE</th>\n",
       "      <th>DAYS_TERMINATION</th>\n",
       "      <th>NFLAG_INSURED_ON_APPROVAL</th>\n",
       "    </tr>\n",
       "  </thead>\n",
       "  <tbody>\n",
       "    <tr>\n",
       "      <th>0</th>\n",
       "      <td>100002</td>\n",
       "      <td>1</td>\n",
       "      <td>Cash loans</td>\n",
       "      <td>M</td>\n",
       "      <td>N</td>\n",
       "      <td>Y</td>\n",
       "      <td>0</td>\n",
       "      <td>202500.0</td>\n",
       "      <td>406597.5</td>\n",
       "      <td>24700.5</td>\n",
       "      <td>...</td>\n",
       "      <td>Auto technology</td>\n",
       "      <td>24.0</td>\n",
       "      <td>low_normal</td>\n",
       "      <td>POS other with interest</td>\n",
       "      <td>365243.0</td>\n",
       "      <td>-565.0</td>\n",
       "      <td>125.0</td>\n",
       "      <td>-25.0</td>\n",
       "      <td>-17.0</td>\n",
       "      <td>0.0</td>\n",
       "    </tr>\n",
       "    <tr>\n",
       "      <th>1</th>\n",
       "      <td>100003</td>\n",
       "      <td>0</td>\n",
       "      <td>Cash loans</td>\n",
       "      <td>F</td>\n",
       "      <td>N</td>\n",
       "      <td>N</td>\n",
       "      <td>0</td>\n",
       "      <td>270000.0</td>\n",
       "      <td>1293502.5</td>\n",
       "      <td>35698.5</td>\n",
       "      <td>...</td>\n",
       "      <td>XNA</td>\n",
       "      <td>12.0</td>\n",
       "      <td>low_normal</td>\n",
       "      <td>Cash X-Sell: low</td>\n",
       "      <td>365243.0</td>\n",
       "      <td>-716.0</td>\n",
       "      <td>-386.0</td>\n",
       "      <td>-536.0</td>\n",
       "      <td>-527.0</td>\n",
       "      <td>1.0</td>\n",
       "    </tr>\n",
       "    <tr>\n",
       "      <th>2</th>\n",
       "      <td>100003</td>\n",
       "      <td>0</td>\n",
       "      <td>Cash loans</td>\n",
       "      <td>F</td>\n",
       "      <td>N</td>\n",
       "      <td>N</td>\n",
       "      <td>0</td>\n",
       "      <td>270000.0</td>\n",
       "      <td>1293502.5</td>\n",
       "      <td>35698.5</td>\n",
       "      <td>...</td>\n",
       "      <td>Furniture</td>\n",
       "      <td>6.0</td>\n",
       "      <td>middle</td>\n",
       "      <td>POS industry with interest</td>\n",
       "      <td>365243.0</td>\n",
       "      <td>-797.0</td>\n",
       "      <td>-647.0</td>\n",
       "      <td>-647.0</td>\n",
       "      <td>-639.0</td>\n",
       "      <td>0.0</td>\n",
       "    </tr>\n",
       "    <tr>\n",
       "      <th>3</th>\n",
       "      <td>100003</td>\n",
       "      <td>0</td>\n",
       "      <td>Cash loans</td>\n",
       "      <td>F</td>\n",
       "      <td>N</td>\n",
       "      <td>N</td>\n",
       "      <td>0</td>\n",
       "      <td>270000.0</td>\n",
       "      <td>1293502.5</td>\n",
       "      <td>35698.5</td>\n",
       "      <td>...</td>\n",
       "      <td>Consumer electronics</td>\n",
       "      <td>12.0</td>\n",
       "      <td>middle</td>\n",
       "      <td>POS household with interest</td>\n",
       "      <td>365243.0</td>\n",
       "      <td>-2310.0</td>\n",
       "      <td>-1980.0</td>\n",
       "      <td>-1980.0</td>\n",
       "      <td>-1976.0</td>\n",
       "      <td>1.0</td>\n",
       "    </tr>\n",
       "    <tr>\n",
       "      <th>4</th>\n",
       "      <td>100004</td>\n",
       "      <td>0</td>\n",
       "      <td>Revolving loans</td>\n",
       "      <td>M</td>\n",
       "      <td>Y</td>\n",
       "      <td>Y</td>\n",
       "      <td>0</td>\n",
       "      <td>67500.0</td>\n",
       "      <td>135000.0</td>\n",
       "      <td>6750.0</td>\n",
       "      <td>...</td>\n",
       "      <td>Connectivity</td>\n",
       "      <td>4.0</td>\n",
       "      <td>middle</td>\n",
       "      <td>POS mobile without interest</td>\n",
       "      <td>365243.0</td>\n",
       "      <td>-784.0</td>\n",
       "      <td>-694.0</td>\n",
       "      <td>-724.0</td>\n",
       "      <td>-714.0</td>\n",
       "      <td>0.0</td>\n",
       "    </tr>\n",
       "  </tbody>\n",
       "</table>\n",
       "<p>5 rows × 158 columns</p>\n",
       "</div>"
      ],
      "text/plain": [
       "   SK_ID_CURR  TARGET NAME_CONTRACT_TYPE CODE_GENDER FLAG_OWN_CAR  \\\n",
       "0      100002       1         Cash loans           M            N   \n",
       "1      100003       0         Cash loans           F            N   \n",
       "2      100003       0         Cash loans           F            N   \n",
       "3      100003       0         Cash loans           F            N   \n",
       "4      100004       0    Revolving loans           M            Y   \n",
       "\n",
       "  FLAG_OWN_REALTY  CNT_CHILDREN  AMT_INCOME_TOTAL  AMT_CREDIT  AMT_ANNUITY  \\\n",
       "0               Y             0          202500.0    406597.5      24700.5   \n",
       "1               N             0          270000.0   1293502.5      35698.5   \n",
       "2               N             0          270000.0   1293502.5      35698.5   \n",
       "3               N             0          270000.0   1293502.5      35698.5   \n",
       "4               Y             0           67500.0    135000.0       6750.0   \n",
       "\n",
       "   ...  NAME_SELLER_INDUSTRY CNT_PAYMENT NAME_YIELD_GROUP  \\\n",
       "0  ...       Auto technology        24.0       low_normal   \n",
       "1  ...                   XNA        12.0       low_normal   \n",
       "2  ...             Furniture         6.0           middle   \n",
       "3  ...  Consumer electronics        12.0           middle   \n",
       "4  ...          Connectivity         4.0           middle   \n",
       "\n",
       "           PRODUCT_COMBINATION DAYS_FIRST_DRAWING DAYS_FIRST_DUE  \\\n",
       "0      POS other with interest           365243.0         -565.0   \n",
       "1             Cash X-Sell: low           365243.0         -716.0   \n",
       "2   POS industry with interest           365243.0         -797.0   \n",
       "3  POS household with interest           365243.0        -2310.0   \n",
       "4  POS mobile without interest           365243.0         -784.0   \n",
       "\n",
       "   DAYS_LAST_DUE_1ST_VERSION  DAYS_LAST_DUE  DAYS_TERMINATION  \\\n",
       "0                      125.0          -25.0             -17.0   \n",
       "1                     -386.0         -536.0            -527.0   \n",
       "2                     -647.0         -647.0            -639.0   \n",
       "3                    -1980.0        -1980.0           -1976.0   \n",
       "4                     -694.0         -724.0            -714.0   \n",
       "\n",
       "   NFLAG_INSURED_ON_APPROVAL  \n",
       "0                        0.0  \n",
       "1                        1.0  \n",
       "2                        0.0  \n",
       "3                        1.0  \n",
       "4                        0.0  \n",
       "\n",
       "[5 rows x 158 columns]"
      ]
     },
     "execution_count": 142,
     "metadata": {},
     "output_type": "execute_result"
    }
   ],
   "source": [
    "all_apps.head()"
   ]
  },
  {
   "cell_type": "code",
   "execution_count": 143,
   "metadata": {},
   "outputs": [
    {
     "data": {
      "text/plain": [
       "(1430155, 158)"
      ]
     },
     "execution_count": 143,
     "metadata": {},
     "output_type": "execute_result"
    }
   ],
   "source": [
    "all_apps.shape"
   ]
  },
  {
   "cell_type": "markdown",
   "metadata": {},
   "source": [
    "### 3. Missing values"
   ]
  },
  {
   "cell_type": "code",
   "execution_count": 144,
   "metadata": {},
   "outputs": [
    {
     "name": "stdout",
     "output_type": "stream",
     "text": [
      "<class 'pandas.core.frame.DataFrame'>\n",
      "Int64Index: 1430155 entries, 0 to 1430154\n",
      "Columns: 158 entries, SK_ID_CURR to NFLAG_INSURED_ON_APPROVAL\n",
      "dtypes: float64(85), int64(41), object(32)\n",
      "memory usage: 1.7+ GB\n"
     ]
    }
   ],
   "source": [
    "all_apps.info()"
   ]
  },
  {
   "cell_type": "code",
   "execution_count": 145,
   "metadata": {},
   "outputs": [
    {
     "data": {
      "text/plain": [
       "Index(['SK_ID_CURR', 'TARGET', 'NAME_CONTRACT_TYPE', 'CODE_GENDER',\n",
       "       'FLAG_OWN_CAR', 'FLAG_OWN_REALTY', 'CNT_CHILDREN', 'AMT_INCOME_TOTAL',\n",
       "       'AMT_CREDIT', 'AMT_ANNUITY',\n",
       "       ...\n",
       "       'NAME_SELLER_INDUSTRY', 'CNT_PAYMENT', 'NAME_YIELD_GROUP',\n",
       "       'PRODUCT_COMBINATION', 'DAYS_FIRST_DRAWING', 'DAYS_FIRST_DUE',\n",
       "       'DAYS_LAST_DUE_1ST_VERSION', 'DAYS_LAST_DUE', 'DAYS_TERMINATION',\n",
       "       'NFLAG_INSURED_ON_APPROVAL'],\n",
       "      dtype='object', length=158)"
      ]
     },
     "execution_count": 145,
     "metadata": {},
     "output_type": "execute_result"
    }
   ],
   "source": [
    "all_apps.columns"
   ]
  },
  {
   "cell_type": "code",
   "execution_count": 146,
   "metadata": {},
   "outputs": [],
   "source": [
    "# Store variables\n",
    "cols = all_apps.columns\n",
    "sz = all_apps.shape[0]"
   ]
  },
  {
   "cell_type": "code",
   "execution_count": 147,
   "metadata": {},
   "outputs": [],
   "source": [
    "na_df = pd.DataFrame(columns=['name', 'null count', 'null percent', 'type'])\n",
    "\n",
    "for col in cols:\n",
    "    na_sum = all_apps[col].isna().sum()\n",
    "    if na_sum != 0:\n",
    "        na_percent = na_sum / sz * 100\n",
    "        na_df = na_df.append({'name': col, 'null count': na_sum, 'type': all_apps[col].dtype, 'null percent': na_percent}, ignore_index=True)\n",
    "\n"
   ]
  },
  {
   "cell_type": "code",
   "execution_count": 148,
   "metadata": {},
   "outputs": [],
   "source": [
    "na_df.sort_values(by='null percent', ascending=False, inplace=True)"
   ]
  },
  {
   "cell_type": "code",
   "execution_count": 149,
   "metadata": {},
   "outputs": [
    {
     "data": {
      "text/html": [
       "<div>\n",
       "<style scoped>\n",
       "    .dataframe tbody tr th:only-of-type {\n",
       "        vertical-align: middle;\n",
       "    }\n",
       "\n",
       "    .dataframe tbody tr th {\n",
       "        vertical-align: top;\n",
       "    }\n",
       "\n",
       "    .dataframe thead th {\n",
       "        text-align: right;\n",
       "    }\n",
       "</style>\n",
       "<table border=\"1\" class=\"dataframe\">\n",
       "  <thead>\n",
       "    <tr style=\"text-align: right;\">\n",
       "      <th></th>\n",
       "      <th>name</th>\n",
       "      <th>null count</th>\n",
       "      <th>null percent</th>\n",
       "      <th>type</th>\n",
       "    </tr>\n",
       "  </thead>\n",
       "  <tbody>\n",
       "    <tr>\n",
       "      <th>79</th>\n",
       "      <td>RATE_INTEREST_PRIMARY</td>\n",
       "      <td>1425364</td>\n",
       "      <td>99.665001</td>\n",
       "      <td>float64</td>\n",
       "    </tr>\n",
       "    <tr>\n",
       "      <th>80</th>\n",
       "      <td>RATE_INTEREST_PRIVILEGED</td>\n",
       "      <td>1425364</td>\n",
       "      <td>99.665001</td>\n",
       "      <td>float64</td>\n",
       "    </tr>\n",
       "    <tr>\n",
       "      <th>41</th>\n",
       "      <td>COMMONAREA_MEDI</td>\n",
       "      <td>995502</td>\n",
       "      <td>69.607980</td>\n",
       "      <td>float64</td>\n",
       "    </tr>\n",
       "    <tr>\n",
       "      <th>13</th>\n",
       "      <td>COMMONAREA_AVG</td>\n",
       "      <td>995502</td>\n",
       "      <td>69.607980</td>\n",
       "      <td>float64</td>\n",
       "    </tr>\n",
       "    <tr>\n",
       "      <th>27</th>\n",
       "      <td>COMMONAREA_MODE</td>\n",
       "      <td>995502</td>\n",
       "      <td>69.607980</td>\n",
       "      <td>float64</td>\n",
       "    </tr>\n",
       "    <tr>\n",
       "      <th>...</th>\n",
       "      <td>...</td>\n",
       "      <td>...</td>\n",
       "      <td>...</td>\n",
       "      <td>...</td>\n",
       "    </tr>\n",
       "    <tr>\n",
       "      <th>7</th>\n",
       "      <td>EXT_SOURCE_2</td>\n",
       "      <td>1901</td>\n",
       "      <td>0.132923</td>\n",
       "      <td>float64</td>\n",
       "    </tr>\n",
       "    <tr>\n",
       "      <th>1</th>\n",
       "      <td>AMT_GOODS_PRICE</td>\n",
       "      <td>1219</td>\n",
       "      <td>0.085236</td>\n",
       "      <td>float64</td>\n",
       "    </tr>\n",
       "    <tr>\n",
       "      <th>0</th>\n",
       "      <td>AMT_ANNUITY</td>\n",
       "      <td>93</td>\n",
       "      <td>0.006503</td>\n",
       "      <td>float64</td>\n",
       "    </tr>\n",
       "    <tr>\n",
       "      <th>5</th>\n",
       "      <td>CNT_FAM_MEMBERS</td>\n",
       "      <td>2</td>\n",
       "      <td>0.000140</td>\n",
       "      <td>float64</td>\n",
       "    </tr>\n",
       "    <tr>\n",
       "      <th>60</th>\n",
       "      <td>DAYS_LAST_PHONE_CHANGE</td>\n",
       "      <td>1</td>\n",
       "      <td>0.000070</td>\n",
       "      <td>float64</td>\n",
       "    </tr>\n",
       "  </tbody>\n",
       "</table>\n",
       "<p>103 rows × 4 columns</p>\n",
       "</div>"
      ],
      "text/plain": [
       "                        name null count  null percent     type\n",
       "79     RATE_INTEREST_PRIMARY    1425364     99.665001  float64\n",
       "80  RATE_INTEREST_PRIVILEGED    1425364     99.665001  float64\n",
       "41           COMMONAREA_MEDI     995502     69.607980  float64\n",
       "13            COMMONAREA_AVG     995502     69.607980  float64\n",
       "27           COMMONAREA_MODE     995502     69.607980  float64\n",
       "..                       ...        ...           ...      ...\n",
       "7               EXT_SOURCE_2       1901      0.132923  float64\n",
       "1            AMT_GOODS_PRICE       1219      0.085236  float64\n",
       "0                AMT_ANNUITY         93      0.006503  float64\n",
       "5            CNT_FAM_MEMBERS          2      0.000140  float64\n",
       "60    DAYS_LAST_PHONE_CHANGE          1      0.000070  float64\n",
       "\n",
       "[103 rows x 4 columns]"
      ]
     },
     "execution_count": 149,
     "metadata": {},
     "output_type": "execute_result"
    }
   ],
   "source": [
    "na_df"
   ]
  },
  {
   "cell_type": "code",
   "execution_count": 150,
   "metadata": {},
   "outputs": [],
   "source": [
    "# na_df['name'].values[-2:]"
   ]
  },
  {
   "cell_type": "code",
   "execution_count": 151,
   "metadata": {},
   "outputs": [],
   "source": [
    "# missing_y = list(filter(lambda x: x[-2:] == '_y', na_df['name'].values))"
   ]
  },
  {
   "cell_type": "code",
   "execution_count": 152,
   "metadata": {},
   "outputs": [],
   "source": [
    "# missing_y"
   ]
  },
  {
   "cell_type": "code",
   "execution_count": 153,
   "metadata": {},
   "outputs": [],
   "source": [
    "# na_df[na_df]"
   ]
  },
  {
   "cell_type": "code",
   "execution_count": 154,
   "metadata": {},
   "outputs": [],
   "source": [
    "# na_df[na_df['name'][-2:] == '_y']"
   ]
  },
  {
   "cell_type": "markdown",
   "metadata": {},
   "source": [
    "#### 3.1. Dropping columns with > 50% values missing"
   ]
  },
  {
   "cell_type": "code",
   "execution_count": 155,
   "metadata": {},
   "outputs": [],
   "source": [
    "large_empty_cols = na_df[na_df['null percent'] > 50]['name'].values"
   ]
  },
  {
   "cell_type": "code",
   "execution_count": 156,
   "metadata": {},
   "outputs": [
    {
     "data": {
      "text/plain": [
       "38"
      ]
     },
     "execution_count": 156,
     "metadata": {},
     "output_type": "execute_result"
    }
   ],
   "source": [
    "large_empty_cols.size"
   ]
  },
  {
   "cell_type": "code",
   "execution_count": 157,
   "metadata": {},
   "outputs": [
    {
     "data": {
      "text/plain": [
       "numpy.ndarray"
      ]
     },
     "execution_count": 157,
     "metadata": {},
     "output_type": "execute_result"
    }
   ],
   "source": [
    "type(large_empty_cols)"
   ]
  },
  {
   "cell_type": "code",
   "execution_count": 158,
   "metadata": {},
   "outputs": [],
   "source": [
    "all_apps.drop(large_empty_cols, axis=1, inplace=True)"
   ]
  },
  {
   "cell_type": "code",
   "execution_count": 159,
   "metadata": {},
   "outputs": [
    {
     "data": {
      "text/plain": [
       "(1430155, 120)"
      ]
     },
     "execution_count": 159,
     "metadata": {},
     "output_type": "execute_result"
    }
   ],
   "source": [
    "# Verifying that the correct number of columns were dropped\n",
    "# There were 154 before, and 34 were dropped, leaving 120.\n",
    "all_apps.shape"
   ]
  },
  {
   "cell_type": "code",
   "execution_count": 160,
   "metadata": {},
   "outputs": [
    {
     "data": {
      "text/html": [
       "<div>\n",
       "<style scoped>\n",
       "    .dataframe tbody tr th:only-of-type {\n",
       "        vertical-align: middle;\n",
       "    }\n",
       "\n",
       "    .dataframe tbody tr th {\n",
       "        vertical-align: top;\n",
       "    }\n",
       "\n",
       "    .dataframe thead th {\n",
       "        text-align: right;\n",
       "    }\n",
       "</style>\n",
       "<table border=\"1\" class=\"dataframe\">\n",
       "  <thead>\n",
       "    <tr style=\"text-align: right;\">\n",
       "      <th></th>\n",
       "      <th>name</th>\n",
       "      <th>null count</th>\n",
       "      <th>null percent</th>\n",
       "      <th>type</th>\n",
       "    </tr>\n",
       "  </thead>\n",
       "  <tbody>\n",
       "    <tr>\n",
       "      <th>4</th>\n",
       "      <td>OCCUPATION_TYPE</td>\n",
       "      <td>462731</td>\n",
       "      <td>32.355304</td>\n",
       "      <td>object</td>\n",
       "    </tr>\n",
       "  </tbody>\n",
       "</table>\n",
       "</div>"
      ],
      "text/plain": [
       "              name null count  null percent    type\n",
       "4  OCCUPATION_TYPE     462731     32.355304  object"
      ]
     },
     "execution_count": 160,
     "metadata": {},
     "output_type": "execute_result"
    }
   ],
   "source": [
    "na_df[na_df.name == 'OCCUPATION_TYPE']"
   ]
  },
  {
   "cell_type": "markdown",
   "metadata": {},
   "source": [
    "### 3.2. Dropping rows for columns with < 2% values missing"
   ]
  },
  {
   "cell_type": "code",
   "execution_count": 161,
   "metadata": {},
   "outputs": [],
   "source": [
    "small_empty_cols = na_df[na_df['null percent'] < 2]['name'].values"
   ]
  },
  {
   "cell_type": "code",
   "execution_count": 162,
   "metadata": {},
   "outputs": [
    {
     "data": {
      "text/plain": [
       "array(['PRODUCT_COMBINATION', 'AMT_CREDIT_PREV', 'DAYS_DECISION',\n",
       "       'NAME_GOODS_CATEGORY', 'NAME_CLIENT_TYPE', 'NAME_PORTFOLIO',\n",
       "       'CODE_REJECT_REASON', 'NAME_PRODUCT_TYPE', 'NAME_PAYMENT_TYPE',\n",
       "       'CHANNEL_TYPE', 'NAME_CASH_LOAN_PURPOSE',\n",
       "       'FLAG_LAST_APPL_PER_CONTRACT', 'NAME_CONTRACT_STATUS',\n",
       "       'NAME_YIELD_GROUP', 'NFLAG_LAST_APPL_IN_DAY',\n",
       "       'NAME_SELLER_INDUSTRY', 'HOUR_APPR_PROCESS_START_PREV',\n",
       "       'WEEKDAY_APPR_PROCESS_START_PREV', 'AMT_APPLICATION',\n",
       "       'NAME_CONTRACT_TYPE_PREV', 'SK_ID_PREV', 'SELLERPLACE_AREA',\n",
       "       'NAME_TYPE_SUITE', 'DEF_30_CNT_SOCIAL_CIRCLE',\n",
       "       'OBS_60_CNT_SOCIAL_CIRCLE', 'DEF_60_CNT_SOCIAL_CIRCLE',\n",
       "       'OBS_30_CNT_SOCIAL_CIRCLE', 'EXT_SOURCE_2', 'AMT_GOODS_PRICE',\n",
       "       'AMT_ANNUITY', 'CNT_FAM_MEMBERS', 'DAYS_LAST_PHONE_CHANGE'],\n",
       "      dtype=object)"
      ]
     },
     "execution_count": 162,
     "metadata": {},
     "output_type": "execute_result"
    }
   ],
   "source": [
    "small_empty_cols"
   ]
  },
  {
   "cell_type": "code",
   "execution_count": 163,
   "metadata": {},
   "outputs": [
    {
     "data": {
      "text/html": [
       "<div>\n",
       "<style scoped>\n",
       "    .dataframe tbody tr th:only-of-type {\n",
       "        vertical-align: middle;\n",
       "    }\n",
       "\n",
       "    .dataframe tbody tr th {\n",
       "        vertical-align: top;\n",
       "    }\n",
       "\n",
       "    .dataframe thead th {\n",
       "        text-align: right;\n",
       "    }\n",
       "</style>\n",
       "<table border=\"1\" class=\"dataframe\">\n",
       "  <thead>\n",
       "    <tr style=\"text-align: right;\">\n",
       "      <th></th>\n",
       "      <th>name</th>\n",
       "      <th>null count</th>\n",
       "      <th>null percent</th>\n",
       "      <th>type</th>\n",
       "    </tr>\n",
       "  </thead>\n",
       "  <tbody>\n",
       "    <tr>\n",
       "      <th>96</th>\n",
       "      <td>PRODUCT_COMBINATION</td>\n",
       "      <td>16767</td>\n",
       "      <td>1.172390</td>\n",
       "      <td>object</td>\n",
       "    </tr>\n",
       "    <tr>\n",
       "      <th>71</th>\n",
       "      <td>AMT_CREDIT_PREV</td>\n",
       "      <td>16455</td>\n",
       "      <td>1.150575</td>\n",
       "      <td>float64</td>\n",
       "    </tr>\n",
       "    <tr>\n",
       "      <th>83</th>\n",
       "      <td>DAYS_DECISION</td>\n",
       "      <td>16454</td>\n",
       "      <td>1.150505</td>\n",
       "      <td>float64</td>\n",
       "    </tr>\n",
       "    <tr>\n",
       "      <th>88</th>\n",
       "      <td>NAME_GOODS_CATEGORY</td>\n",
       "      <td>16454</td>\n",
       "      <td>1.150505</td>\n",
       "      <td>object</td>\n",
       "    </tr>\n",
       "    <tr>\n",
       "      <th>87</th>\n",
       "      <td>NAME_CLIENT_TYPE</td>\n",
       "      <td>16454</td>\n",
       "      <td>1.150505</td>\n",
       "      <td>object</td>\n",
       "    </tr>\n",
       "    <tr>\n",
       "      <th>89</th>\n",
       "      <td>NAME_PORTFOLIO</td>\n",
       "      <td>16454</td>\n",
       "      <td>1.150505</td>\n",
       "      <td>object</td>\n",
       "    </tr>\n",
       "    <tr>\n",
       "      <th>85</th>\n",
       "      <td>CODE_REJECT_REASON</td>\n",
       "      <td>16454</td>\n",
       "      <td>1.150505</td>\n",
       "      <td>object</td>\n",
       "    </tr>\n",
       "    <tr>\n",
       "      <th>90</th>\n",
       "      <td>NAME_PRODUCT_TYPE</td>\n",
       "      <td>16454</td>\n",
       "      <td>1.150505</td>\n",
       "      <td>object</td>\n",
       "    </tr>\n",
       "    <tr>\n",
       "      <th>84</th>\n",
       "      <td>NAME_PAYMENT_TYPE</td>\n",
       "      <td>16454</td>\n",
       "      <td>1.150505</td>\n",
       "      <td>object</td>\n",
       "    </tr>\n",
       "    <tr>\n",
       "      <th>91</th>\n",
       "      <td>CHANNEL_TYPE</td>\n",
       "      <td>16454</td>\n",
       "      <td>1.150505</td>\n",
       "      <td>object</td>\n",
       "    </tr>\n",
       "    <tr>\n",
       "      <th>81</th>\n",
       "      <td>NAME_CASH_LOAN_PURPOSE</td>\n",
       "      <td>16454</td>\n",
       "      <td>1.150505</td>\n",
       "      <td>object</td>\n",
       "    </tr>\n",
       "    <tr>\n",
       "      <th>76</th>\n",
       "      <td>FLAG_LAST_APPL_PER_CONTRACT</td>\n",
       "      <td>16454</td>\n",
       "      <td>1.150505</td>\n",
       "      <td>object</td>\n",
       "    </tr>\n",
       "    <tr>\n",
       "      <th>82</th>\n",
       "      <td>NAME_CONTRACT_STATUS</td>\n",
       "      <td>16454</td>\n",
       "      <td>1.150505</td>\n",
       "      <td>object</td>\n",
       "    </tr>\n",
       "    <tr>\n",
       "      <th>95</th>\n",
       "      <td>NAME_YIELD_GROUP</td>\n",
       "      <td>16454</td>\n",
       "      <td>1.150505</td>\n",
       "      <td>object</td>\n",
       "    </tr>\n",
       "    <tr>\n",
       "      <th>77</th>\n",
       "      <td>NFLAG_LAST_APPL_IN_DAY</td>\n",
       "      <td>16454</td>\n",
       "      <td>1.150505</td>\n",
       "      <td>float64</td>\n",
       "    </tr>\n",
       "    <tr>\n",
       "      <th>93</th>\n",
       "      <td>NAME_SELLER_INDUSTRY</td>\n",
       "      <td>16454</td>\n",
       "      <td>1.150505</td>\n",
       "      <td>object</td>\n",
       "    </tr>\n",
       "    <tr>\n",
       "      <th>75</th>\n",
       "      <td>HOUR_APPR_PROCESS_START_PREV</td>\n",
       "      <td>16454</td>\n",
       "      <td>1.150505</td>\n",
       "      <td>float64</td>\n",
       "    </tr>\n",
       "    <tr>\n",
       "      <th>74</th>\n",
       "      <td>WEEKDAY_APPR_PROCESS_START_PREV</td>\n",
       "      <td>16454</td>\n",
       "      <td>1.150505</td>\n",
       "      <td>object</td>\n",
       "    </tr>\n",
       "    <tr>\n",
       "      <th>70</th>\n",
       "      <td>AMT_APPLICATION</td>\n",
       "      <td>16454</td>\n",
       "      <td>1.150505</td>\n",
       "      <td>float64</td>\n",
       "    </tr>\n",
       "    <tr>\n",
       "      <th>68</th>\n",
       "      <td>NAME_CONTRACT_TYPE_PREV</td>\n",
       "      <td>16454</td>\n",
       "      <td>1.150505</td>\n",
       "      <td>object</td>\n",
       "    </tr>\n",
       "    <tr>\n",
       "      <th>67</th>\n",
       "      <td>SK_ID_PREV</td>\n",
       "      <td>16454</td>\n",
       "      <td>1.150505</td>\n",
       "      <td>float64</td>\n",
       "    </tr>\n",
       "    <tr>\n",
       "      <th>92</th>\n",
       "      <td>SELLERPLACE_AREA</td>\n",
       "      <td>16454</td>\n",
       "      <td>1.150505</td>\n",
       "      <td>float64</td>\n",
       "    </tr>\n",
       "    <tr>\n",
       "      <th>2</th>\n",
       "      <td>NAME_TYPE_SUITE</td>\n",
       "      <td>4031</td>\n",
       "      <td>0.281858</td>\n",
       "      <td>object</td>\n",
       "    </tr>\n",
       "    <tr>\n",
       "      <th>57</th>\n",
       "      <td>DEF_30_CNT_SOCIAL_CIRCLE</td>\n",
       "      <td>3393</td>\n",
       "      <td>0.237247</td>\n",
       "      <td>float64</td>\n",
       "    </tr>\n",
       "    <tr>\n",
       "      <th>58</th>\n",
       "      <td>OBS_60_CNT_SOCIAL_CIRCLE</td>\n",
       "      <td>3393</td>\n",
       "      <td>0.237247</td>\n",
       "      <td>float64</td>\n",
       "    </tr>\n",
       "    <tr>\n",
       "      <th>59</th>\n",
       "      <td>DEF_60_CNT_SOCIAL_CIRCLE</td>\n",
       "      <td>3393</td>\n",
       "      <td>0.237247</td>\n",
       "      <td>float64</td>\n",
       "    </tr>\n",
       "    <tr>\n",
       "      <th>56</th>\n",
       "      <td>OBS_30_CNT_SOCIAL_CIRCLE</td>\n",
       "      <td>3393</td>\n",
       "      <td>0.237247</td>\n",
       "      <td>float64</td>\n",
       "    </tr>\n",
       "    <tr>\n",
       "      <th>7</th>\n",
       "      <td>EXT_SOURCE_2</td>\n",
       "      <td>1901</td>\n",
       "      <td>0.132923</td>\n",
       "      <td>float64</td>\n",
       "    </tr>\n",
       "    <tr>\n",
       "      <th>1</th>\n",
       "      <td>AMT_GOODS_PRICE</td>\n",
       "      <td>1219</td>\n",
       "      <td>0.085236</td>\n",
       "      <td>float64</td>\n",
       "    </tr>\n",
       "    <tr>\n",
       "      <th>0</th>\n",
       "      <td>AMT_ANNUITY</td>\n",
       "      <td>93</td>\n",
       "      <td>0.006503</td>\n",
       "      <td>float64</td>\n",
       "    </tr>\n",
       "    <tr>\n",
       "      <th>5</th>\n",
       "      <td>CNT_FAM_MEMBERS</td>\n",
       "      <td>2</td>\n",
       "      <td>0.000140</td>\n",
       "      <td>float64</td>\n",
       "    </tr>\n",
       "    <tr>\n",
       "      <th>60</th>\n",
       "      <td>DAYS_LAST_PHONE_CHANGE</td>\n",
       "      <td>1</td>\n",
       "      <td>0.000070</td>\n",
       "      <td>float64</td>\n",
       "    </tr>\n",
       "  </tbody>\n",
       "</table>\n",
       "</div>"
      ],
      "text/plain": [
       "                               name null count  null percent     type\n",
       "96              PRODUCT_COMBINATION      16767      1.172390   object\n",
       "71                  AMT_CREDIT_PREV      16455      1.150575  float64\n",
       "83                    DAYS_DECISION      16454      1.150505  float64\n",
       "88              NAME_GOODS_CATEGORY      16454      1.150505   object\n",
       "87                 NAME_CLIENT_TYPE      16454      1.150505   object\n",
       "89                   NAME_PORTFOLIO      16454      1.150505   object\n",
       "85               CODE_REJECT_REASON      16454      1.150505   object\n",
       "90                NAME_PRODUCT_TYPE      16454      1.150505   object\n",
       "84                NAME_PAYMENT_TYPE      16454      1.150505   object\n",
       "91                     CHANNEL_TYPE      16454      1.150505   object\n",
       "81           NAME_CASH_LOAN_PURPOSE      16454      1.150505   object\n",
       "76      FLAG_LAST_APPL_PER_CONTRACT      16454      1.150505   object\n",
       "82             NAME_CONTRACT_STATUS      16454      1.150505   object\n",
       "95                 NAME_YIELD_GROUP      16454      1.150505   object\n",
       "77           NFLAG_LAST_APPL_IN_DAY      16454      1.150505  float64\n",
       "93             NAME_SELLER_INDUSTRY      16454      1.150505   object\n",
       "75     HOUR_APPR_PROCESS_START_PREV      16454      1.150505  float64\n",
       "74  WEEKDAY_APPR_PROCESS_START_PREV      16454      1.150505   object\n",
       "70                  AMT_APPLICATION      16454      1.150505  float64\n",
       "68          NAME_CONTRACT_TYPE_PREV      16454      1.150505   object\n",
       "67                       SK_ID_PREV      16454      1.150505  float64\n",
       "92                 SELLERPLACE_AREA      16454      1.150505  float64\n",
       "2                   NAME_TYPE_SUITE       4031      0.281858   object\n",
       "57         DEF_30_CNT_SOCIAL_CIRCLE       3393      0.237247  float64\n",
       "58         OBS_60_CNT_SOCIAL_CIRCLE       3393      0.237247  float64\n",
       "59         DEF_60_CNT_SOCIAL_CIRCLE       3393      0.237247  float64\n",
       "56         OBS_30_CNT_SOCIAL_CIRCLE       3393      0.237247  float64\n",
       "7                      EXT_SOURCE_2       1901      0.132923  float64\n",
       "1                   AMT_GOODS_PRICE       1219      0.085236  float64\n",
       "0                       AMT_ANNUITY         93      0.006503  float64\n",
       "5                   CNT_FAM_MEMBERS          2      0.000140  float64\n",
       "60           DAYS_LAST_PHONE_CHANGE          1      0.000070  float64"
      ]
     },
     "execution_count": 163,
     "metadata": {},
     "output_type": "execute_result"
    }
   ],
   "source": [
    "na_df[na_df['null percent'] < 2]"
   ]
  },
  {
   "cell_type": "code",
   "execution_count": 164,
   "metadata": {},
   "outputs": [
    {
     "data": {
      "text/plain": [
       "(1430155, 120)"
      ]
     },
     "execution_count": 164,
     "metadata": {},
     "output_type": "execute_result"
    }
   ],
   "source": [
    "all_apps.shape"
   ]
  },
  {
   "cell_type": "code",
   "execution_count": 165,
   "metadata": {},
   "outputs": [],
   "source": [
    "# Drop using loop\n",
    "# for col in small_empty_cols:\n",
    "#     all_apps = all_apps[~all_apps[col].isna()]\n",
    "    "
   ]
  },
  {
   "cell_type": "code",
   "execution_count": 166,
   "metadata": {},
   "outputs": [],
   "source": [
    "all_apps.dropna(axis=0, subset=small_empty_cols, inplace=True)"
   ]
  },
  {
   "cell_type": "code",
   "execution_count": 167,
   "metadata": {},
   "outputs": [],
   "source": [
    "#(1404812, 120)"
   ]
  },
  {
   "cell_type": "code",
   "execution_count": 168,
   "metadata": {},
   "outputs": [
    {
     "data": {
      "text/plain": [
       "(1404812, 120)"
      ]
     },
     "execution_count": 168,
     "metadata": {},
     "output_type": "execute_result"
    }
   ],
   "source": [
    "#Verification\n",
    "all_apps.shape"
   ]
  },
  {
   "cell_type": "markdown",
   "metadata": {},
   "source": [
    "### 3.3. Checking remaining columns with missing values"
   ]
  },
  {
   "cell_type": "code",
   "execution_count": 169,
   "metadata": {},
   "outputs": [],
   "source": [
    "med_empty_cols = na_df[(na_df['null percent'] >= 2) & (na_df['null percent'] <= 50)]"
   ]
  },
  {
   "cell_type": "code",
   "execution_count": 170,
   "metadata": {},
   "outputs": [
    {
     "data": {
      "text/html": [
       "<div>\n",
       "<style scoped>\n",
       "    .dataframe tbody tr th:only-of-type {\n",
       "        vertical-align: middle;\n",
       "    }\n",
       "\n",
       "    .dataframe tbody tr th {\n",
       "        vertical-align: top;\n",
       "    }\n",
       "\n",
       "    .dataframe thead th {\n",
       "        text-align: right;\n",
       "    }\n",
       "</style>\n",
       "<table border=\"1\" class=\"dataframe\">\n",
       "  <thead>\n",
       "    <tr style=\"text-align: right;\">\n",
       "      <th></th>\n",
       "      <th>name</th>\n",
       "      <th>null count</th>\n",
       "      <th>null percent</th>\n",
       "      <th>type</th>\n",
       "    </tr>\n",
       "  </thead>\n",
       "  <tbody>\n",
       "    <tr>\n",
       "      <th>29</th>\n",
       "      <td>ENTRANCES_MODE</td>\n",
       "      <td>713388</td>\n",
       "      <td>49.881866</td>\n",
       "      <td>float64</td>\n",
       "    </tr>\n",
       "    <tr>\n",
       "      <th>15</th>\n",
       "      <td>ENTRANCES_AVG</td>\n",
       "      <td>713388</td>\n",
       "      <td>49.881866</td>\n",
       "      <td>float64</td>\n",
       "    </tr>\n",
       "    <tr>\n",
       "      <th>43</th>\n",
       "      <td>ENTRANCES_MEDI</td>\n",
       "      <td>713388</td>\n",
       "      <td>49.881866</td>\n",
       "      <td>float64</td>\n",
       "    </tr>\n",
       "    <tr>\n",
       "      <th>86</th>\n",
       "      <td>NAME_TYPE_SUITE_PREV</td>\n",
       "      <td>711126</td>\n",
       "      <td>49.723701</td>\n",
       "      <td>object</td>\n",
       "    </tr>\n",
       "    <tr>\n",
       "      <th>34</th>\n",
       "      <td>LIVINGAREA_MODE</td>\n",
       "      <td>711001</td>\n",
       "      <td>49.714961</td>\n",
       "      <td>float64</td>\n",
       "    </tr>\n",
       "    <tr>\n",
       "      <th>20</th>\n",
       "      <td>LIVINGAREA_AVG</td>\n",
       "      <td>711001</td>\n",
       "      <td>49.714961</td>\n",
       "      <td>float64</td>\n",
       "    </tr>\n",
       "    <tr>\n",
       "      <th>48</th>\n",
       "      <td>LIVINGAREA_MEDI</td>\n",
       "      <td>711001</td>\n",
       "      <td>49.714961</td>\n",
       "      <td>float64</td>\n",
       "    </tr>\n",
       "    <tr>\n",
       "      <th>52</th>\n",
       "      <td>HOUSETYPE_MODE</td>\n",
       "      <td>710772</td>\n",
       "      <td>49.698949</td>\n",
       "      <td>object</td>\n",
       "    </tr>\n",
       "    <tr>\n",
       "      <th>30</th>\n",
       "      <td>FLOORSMAX_MODE</td>\n",
       "      <td>705019</td>\n",
       "      <td>49.296685</td>\n",
       "      <td>float64</td>\n",
       "    </tr>\n",
       "    <tr>\n",
       "      <th>16</th>\n",
       "      <td>FLOORSMAX_AVG</td>\n",
       "      <td>705019</td>\n",
       "      <td>49.296685</td>\n",
       "      <td>float64</td>\n",
       "    </tr>\n",
       "    <tr>\n",
       "      <th>44</th>\n",
       "      <td>FLOORSMAX_MEDI</td>\n",
       "      <td>705019</td>\n",
       "      <td>49.296685</td>\n",
       "      <td>float64</td>\n",
       "    </tr>\n",
       "    <tr>\n",
       "      <th>11</th>\n",
       "      <td>YEARS_BEGINEXPLUATATION_AVG</td>\n",
       "      <td>691056</td>\n",
       "      <td>48.320357</td>\n",
       "      <td>float64</td>\n",
       "    </tr>\n",
       "    <tr>\n",
       "      <th>39</th>\n",
       "      <td>YEARS_BEGINEXPLUATATION_MEDI</td>\n",
       "      <td>691056</td>\n",
       "      <td>48.320357</td>\n",
       "      <td>float64</td>\n",
       "    </tr>\n",
       "    <tr>\n",
       "      <th>25</th>\n",
       "      <td>YEARS_BEGINEXPLUATATION_MODE</td>\n",
       "      <td>691056</td>\n",
       "      <td>48.320357</td>\n",
       "      <td>float64</td>\n",
       "    </tr>\n",
       "    <tr>\n",
       "      <th>53</th>\n",
       "      <td>TOTALAREA_MODE</td>\n",
       "      <td>683808</td>\n",
       "      <td>47.813559</td>\n",
       "      <td>float64</td>\n",
       "    </tr>\n",
       "    <tr>\n",
       "      <th>55</th>\n",
       "      <td>EMERGENCYSTATE_MODE</td>\n",
       "      <td>671472</td>\n",
       "      <td>46.950995</td>\n",
       "      <td>object</td>\n",
       "    </tr>\n",
       "    <tr>\n",
       "      <th>97</th>\n",
       "      <td>DAYS_FIRST_DRAWING</td>\n",
       "      <td>577560</td>\n",
       "      <td>40.384434</td>\n",
       "      <td>float64</td>\n",
       "    </tr>\n",
       "    <tr>\n",
       "      <th>98</th>\n",
       "      <td>DAYS_FIRST_DUE</td>\n",
       "      <td>577560</td>\n",
       "      <td>40.384434</td>\n",
       "      <td>float64</td>\n",
       "    </tr>\n",
       "    <tr>\n",
       "      <th>99</th>\n",
       "      <td>DAYS_LAST_DUE_1ST_VERSION</td>\n",
       "      <td>577560</td>\n",
       "      <td>40.384434</td>\n",
       "      <td>float64</td>\n",
       "    </tr>\n",
       "    <tr>\n",
       "      <th>100</th>\n",
       "      <td>DAYS_LAST_DUE</td>\n",
       "      <td>577560</td>\n",
       "      <td>40.384434</td>\n",
       "      <td>float64</td>\n",
       "    </tr>\n",
       "    <tr>\n",
       "      <th>101</th>\n",
       "      <td>DAYS_TERMINATION</td>\n",
       "      <td>577560</td>\n",
       "      <td>40.384434</td>\n",
       "      <td>float64</td>\n",
       "    </tr>\n",
       "    <tr>\n",
       "      <th>102</th>\n",
       "      <td>NFLAG_INSURED_ON_APPROVAL</td>\n",
       "      <td>577560</td>\n",
       "      <td>40.384434</td>\n",
       "      <td>float64</td>\n",
       "    </tr>\n",
       "    <tr>\n",
       "      <th>4</th>\n",
       "      <td>OCCUPATION_TYPE</td>\n",
       "      <td>462731</td>\n",
       "      <td>32.355304</td>\n",
       "      <td>object</td>\n",
       "    </tr>\n",
       "    <tr>\n",
       "      <th>73</th>\n",
       "      <td>AMT_GOODS_PRICE_PREV</td>\n",
       "      <td>335979</td>\n",
       "      <td>23.492489</td>\n",
       "      <td>float64</td>\n",
       "    </tr>\n",
       "    <tr>\n",
       "      <th>69</th>\n",
       "      <td>AMT_ANNUITY_PREV</td>\n",
       "      <td>323672</td>\n",
       "      <td>22.631952</td>\n",
       "      <td>float64</td>\n",
       "    </tr>\n",
       "    <tr>\n",
       "      <th>94</th>\n",
       "      <td>CNT_PAYMENT</td>\n",
       "      <td>323667</td>\n",
       "      <td>22.631603</td>\n",
       "      <td>float64</td>\n",
       "    </tr>\n",
       "    <tr>\n",
       "      <th>8</th>\n",
       "      <td>EXT_SOURCE_3</td>\n",
       "      <td>245619</td>\n",
       "      <td>17.174292</td>\n",
       "      <td>float64</td>\n",
       "    </tr>\n",
       "    <tr>\n",
       "      <th>61</th>\n",
       "      <td>AMT_REQ_CREDIT_BUREAU_HOUR</td>\n",
       "      <td>165812</td>\n",
       "      <td>11.593988</td>\n",
       "      <td>float64</td>\n",
       "    </tr>\n",
       "    <tr>\n",
       "      <th>62</th>\n",
       "      <td>AMT_REQ_CREDIT_BUREAU_DAY</td>\n",
       "      <td>165812</td>\n",
       "      <td>11.593988</td>\n",
       "      <td>float64</td>\n",
       "    </tr>\n",
       "    <tr>\n",
       "      <th>63</th>\n",
       "      <td>AMT_REQ_CREDIT_BUREAU_WEEK</td>\n",
       "      <td>165812</td>\n",
       "      <td>11.593988</td>\n",
       "      <td>float64</td>\n",
       "    </tr>\n",
       "    <tr>\n",
       "      <th>64</th>\n",
       "      <td>AMT_REQ_CREDIT_BUREAU_MON</td>\n",
       "      <td>165812</td>\n",
       "      <td>11.593988</td>\n",
       "      <td>float64</td>\n",
       "    </tr>\n",
       "    <tr>\n",
       "      <th>65</th>\n",
       "      <td>AMT_REQ_CREDIT_BUREAU_QRT</td>\n",
       "      <td>165812</td>\n",
       "      <td>11.593988</td>\n",
       "      <td>float64</td>\n",
       "    </tr>\n",
       "    <tr>\n",
       "      <th>66</th>\n",
       "      <td>AMT_REQ_CREDIT_BUREAU_YEAR</td>\n",
       "      <td>165812</td>\n",
       "      <td>11.593988</td>\n",
       "      <td>float64</td>\n",
       "    </tr>\n",
       "  </tbody>\n",
       "</table>\n",
       "</div>"
      ],
      "text/plain": [
       "                             name null count  null percent     type\n",
       "29                 ENTRANCES_MODE     713388     49.881866  float64\n",
       "15                  ENTRANCES_AVG     713388     49.881866  float64\n",
       "43                 ENTRANCES_MEDI     713388     49.881866  float64\n",
       "86           NAME_TYPE_SUITE_PREV     711126     49.723701   object\n",
       "34                LIVINGAREA_MODE     711001     49.714961  float64\n",
       "20                 LIVINGAREA_AVG     711001     49.714961  float64\n",
       "48                LIVINGAREA_MEDI     711001     49.714961  float64\n",
       "52                 HOUSETYPE_MODE     710772     49.698949   object\n",
       "30                 FLOORSMAX_MODE     705019     49.296685  float64\n",
       "16                  FLOORSMAX_AVG     705019     49.296685  float64\n",
       "44                 FLOORSMAX_MEDI     705019     49.296685  float64\n",
       "11    YEARS_BEGINEXPLUATATION_AVG     691056     48.320357  float64\n",
       "39   YEARS_BEGINEXPLUATATION_MEDI     691056     48.320357  float64\n",
       "25   YEARS_BEGINEXPLUATATION_MODE     691056     48.320357  float64\n",
       "53                 TOTALAREA_MODE     683808     47.813559  float64\n",
       "55            EMERGENCYSTATE_MODE     671472     46.950995   object\n",
       "97             DAYS_FIRST_DRAWING     577560     40.384434  float64\n",
       "98                 DAYS_FIRST_DUE     577560     40.384434  float64\n",
       "99      DAYS_LAST_DUE_1ST_VERSION     577560     40.384434  float64\n",
       "100                 DAYS_LAST_DUE     577560     40.384434  float64\n",
       "101              DAYS_TERMINATION     577560     40.384434  float64\n",
       "102     NFLAG_INSURED_ON_APPROVAL     577560     40.384434  float64\n",
       "4                 OCCUPATION_TYPE     462731     32.355304   object\n",
       "73           AMT_GOODS_PRICE_PREV     335979     23.492489  float64\n",
       "69               AMT_ANNUITY_PREV     323672     22.631952  float64\n",
       "94                    CNT_PAYMENT     323667     22.631603  float64\n",
       "8                    EXT_SOURCE_3     245619     17.174292  float64\n",
       "61     AMT_REQ_CREDIT_BUREAU_HOUR     165812     11.593988  float64\n",
       "62      AMT_REQ_CREDIT_BUREAU_DAY     165812     11.593988  float64\n",
       "63     AMT_REQ_CREDIT_BUREAU_WEEK     165812     11.593988  float64\n",
       "64      AMT_REQ_CREDIT_BUREAU_MON     165812     11.593988  float64\n",
       "65      AMT_REQ_CREDIT_BUREAU_QRT     165812     11.593988  float64\n",
       "66     AMT_REQ_CREDIT_BUREAU_YEAR     165812     11.593988  float64"
      ]
     },
     "execution_count": 170,
     "metadata": {},
     "output_type": "execute_result"
    }
   ],
   "source": [
    "med_empty_cols"
   ]
  },
  {
   "cell_type": "code",
   "execution_count": 171,
   "metadata": {},
   "outputs": [
    {
     "data": {
      "text/plain": [
       "(1404812, 120)"
      ]
     },
     "execution_count": 171,
     "metadata": {},
     "output_type": "execute_result"
    }
   ],
   "source": [
    "all_apps.shape"
   ]
  },
  {
   "cell_type": "markdown",
   "metadata": {},
   "source": [
    "### 3.4. Imputing required missing values"
   ]
  },
  {
   "cell_type": "markdown",
   "metadata": {},
   "source": [
    "We will be treating some numeric columns as categorical down the line. So, we need to impute values for those, or handle them some other way, to avoid inconsistent data.<br>\n",
    "Such columns are:<br>\n",
    "* OCCUPATION_TYPE\n",
    "* NFLAG_INSURED_ON_APPROVAL\n",
    "* CNT_PAYMENT\n",
    "* AMT_REQ_CREDIT_BUREAU_HOUR\n",
    "* AMT_REQ_CREDIT_BUREAU_DAY\n",
    "* AMT_REQ_CREDIT_BUREAU_WEEK\n",
    "* AMT_REQ_CREDIT_BUREAU_MON\n",
    "* AMT_REQ_CREDIT_BUREAU_QRT\n",
    "* AMT_REQ_CREDIT_BUREAU_YEAR\n"
   ]
  },
  {
   "cell_type": "markdown",
   "metadata": {},
   "source": [
    "#### 3.4.1. Occupation type "
   ]
  },
  {
   "cell_type": "code",
   "execution_count": 172,
   "metadata": {},
   "outputs": [
    {
     "data": {
      "text/plain": [
       "array([nan, nan, nan, ..., nan, nan, nan], dtype=object)"
      ]
     },
     "execution_count": 172,
     "metadata": {},
     "output_type": "execute_result"
    }
   ],
   "source": [
    "all_apps[all_apps.OCCUPATION_TYPE.isna()].OCCUPATION_TYPE.values"
   ]
  },
  {
   "cell_type": "code",
   "execution_count": 173,
   "metadata": {},
   "outputs": [
    {
     "data": {
      "text/plain": [
       "Laborers                 249831\n",
       "Sales staff              150334\n",
       "Core staff               117435\n",
       "Managers                  94425\n",
       "Drivers                   83560\n",
       "High skill tech staff     48195\n",
       "Accountants               41659\n",
       "Medicine staff            39734\n",
       "Security staff            31482\n",
       "Cooking staff             28516\n",
       "Cleaning staff            24178\n",
       "Private service staff     12174\n",
       "Low-skill Laborers         9284\n",
       "Waiters/barmen staff       6086\n",
       "Secretaries                5716\n",
       "Realty agents              3524\n",
       "HR staff                   2306\n",
       "IT staff                   1679\n",
       "Name: OCCUPATION_TYPE, dtype: int64"
      ]
     },
     "execution_count": 173,
     "metadata": {},
     "output_type": "execute_result"
    }
   ],
   "source": [
    "all_apps.OCCUPATION_TYPE.value_counts()"
   ]
  },
  {
   "cell_type": "code",
   "execution_count": 174,
   "metadata": {},
   "outputs": [],
   "source": [
    "all_apps.OCCUPATION_TYPE.fillna('Unknown', inplace=True)"
   ]
  },
  {
   "cell_type": "code",
   "execution_count": 175,
   "metadata": {},
   "outputs": [
    {
     "data": {
      "text/plain": [
       "Unknown                  454694\n",
       "Laborers                 249831\n",
       "Sales staff              150334\n",
       "Core staff               117435\n",
       "Managers                  94425\n",
       "Drivers                   83560\n",
       "High skill tech staff     48195\n",
       "Accountants               41659\n",
       "Medicine staff            39734\n",
       "Security staff            31482\n",
       "Cooking staff             28516\n",
       "Cleaning staff            24178\n",
       "Private service staff     12174\n",
       "Low-skill Laborers         9284\n",
       "Waiters/barmen staff       6086\n",
       "Secretaries                5716\n",
       "Realty agents              3524\n",
       "HR staff                   2306\n",
       "IT staff                   1679\n",
       "Name: OCCUPATION_TYPE, dtype: int64"
      ]
     },
     "execution_count": 175,
     "metadata": {},
     "output_type": "execute_result"
    }
   ],
   "source": [
    "all_apps.OCCUPATION_TYPE.value_counts()"
   ]
  },
  {
   "cell_type": "markdown",
   "metadata": {},
   "source": [
    "#### 3.4.2. NFLAG_INSURED_ON_APPROVAL"
   ]
  },
  {
   "cell_type": "code",
   "execution_count": 176,
   "metadata": {},
   "outputs": [
    {
     "data": {
      "text/plain": [
       "0.0    567087\n",
       "1.0    280281\n",
       "Name: NFLAG_INSURED_ON_APPROVAL, dtype: int64"
      ]
     },
     "execution_count": 176,
     "metadata": {},
     "output_type": "execute_result"
    }
   ],
   "source": [
    "all_apps.NFLAG_INSURED_ON_APPROVAL.value_counts()"
   ]
  },
  {
   "cell_type": "code",
   "execution_count": 177,
   "metadata": {},
   "outputs": [
    {
     "data": {
      "text/plain": [
       "array([nan, nan, nan, ..., nan, nan, nan])"
      ]
     },
     "execution_count": 177,
     "metadata": {},
     "output_type": "execute_result"
    }
   ],
   "source": [
    "all_apps[all_apps.NFLAG_INSURED_ON_APPROVAL.isna()]['NFLAG_INSURED_ON_APPROVAL'].values"
   ]
  },
  {
   "cell_type": "markdown",
   "metadata": {},
   "source": [
    "Since this is a flag, it doesn't make sense to impute it with an 'Unknown' value. So, imputing with mode."
   ]
  },
  {
   "cell_type": "code",
   "execution_count": 178,
   "metadata": {},
   "outputs": [],
   "source": [
    "mode_val = all_apps.NFLAG_INSURED_ON_APPROVAL.mode()[0]"
   ]
  },
  {
   "cell_type": "code",
   "execution_count": 179,
   "metadata": {},
   "outputs": [],
   "source": [
    "all_apps.NFLAG_INSURED_ON_APPROVAL.fillna(mode_val, inplace=True)"
   ]
  },
  {
   "cell_type": "code",
   "execution_count": 180,
   "metadata": {},
   "outputs": [
    {
     "data": {
      "text/plain": [
       "0.0    1124531\n",
       "1.0     280281\n",
       "Name: NFLAG_INSURED_ON_APPROVAL, dtype: int64"
      ]
     },
     "execution_count": 180,
     "metadata": {},
     "output_type": "execute_result"
    }
   ],
   "source": [
    "all_apps.NFLAG_INSURED_ON_APPROVAL.value_counts()"
   ]
  },
  {
   "cell_type": "markdown",
   "metadata": {},
   "source": [
    "#### 3.4.3. CNT_PAYMENT"
   ]
  },
  {
   "cell_type": "code",
   "execution_count": 181,
   "metadata": {},
   "outputs": [
    {
     "data": {
      "text/plain": [
       "12.0    273425\n",
       "6.0     161664\n",
       "10.0    121695\n",
       "0.0     121365\n",
       "24.0    116077\n",
       "18.0     65157\n",
       "36.0     60560\n",
       "60.0     45451\n",
       "48.0     40509\n",
       "8.0      25926\n",
       "4.0      23186\n",
       "30.0     14521\n",
       "14.0      7138\n",
       "42.0      6201\n",
       "16.0      4751\n",
       "5.0       3468\n",
       "54.0      1841\n",
       "20.0      1600\n",
       "7.0       1275\n",
       "9.0       1113\n",
       "3.0        936\n",
       "15.0       835\n",
       "11.0       576\n",
       "72.0       121\n",
       "13.0        48\n",
       "84.0        45\n",
       "17.0        37\n",
       "22.0        32\n",
       "23.0        24\n",
       "26.0        11\n",
       "66.0        10\n",
       "35.0         9\n",
       "28.0         8\n",
       "29.0         6\n",
       "32.0         5\n",
       "19.0         5\n",
       "34.0         3\n",
       "59.0         3\n",
       "21.0         3\n",
       "41.0         3\n",
       "39.0         2\n",
       "47.0         2\n",
       "45.0         2\n",
       "38.0         1\n",
       "40.0         1\n",
       "53.0         1\n",
       "33.0         1\n",
       "44.0         1\n",
       "Name: CNT_PAYMENT, dtype: int64"
      ]
     },
     "execution_count": 181,
     "metadata": {},
     "output_type": "execute_result"
    }
   ],
   "source": [
    "all_apps.CNT_PAYMENT.value_counts()"
   ]
  },
  {
   "cell_type": "markdown",
   "metadata": {},
   "source": [
    "Unsure of what to impute with here. So delete the column."
   ]
  },
  {
   "cell_type": "code",
   "execution_count": 182,
   "metadata": {},
   "outputs": [],
   "source": [
    "all_apps.drop('CNT_PAYMENT', axis=1, inplace=True)"
   ]
  },
  {
   "cell_type": "markdown",
   "metadata": {},
   "source": [
    "#### 3.4.4. AMT_REQ_CREDIT_BUREAU_HOUR"
   ]
  },
  {
   "cell_type": "code",
   "execution_count": 183,
   "metadata": {},
   "outputs": [
    {
     "data": {
      "text/plain": [
       "0.0    1234901\n",
       "1.0       7155\n",
       "2.0        236\n",
       "3.0         26\n",
       "4.0          4\n",
       "Name: AMT_REQ_CREDIT_BUREAU_HOUR, dtype: int64"
      ]
     },
     "execution_count": 183,
     "metadata": {},
     "output_type": "execute_result"
    }
   ],
   "source": [
    "all_apps.AMT_REQ_CREDIT_BUREAU_HOUR.value_counts()"
   ]
  },
  {
   "cell_type": "markdown",
   "metadata": {},
   "source": [
    "Can impute with mode here"
   ]
  },
  {
   "cell_type": "code",
   "execution_count": 184,
   "metadata": {},
   "outputs": [],
   "source": [
    "mode_val = all_apps.AMT_REQ_CREDIT_BUREAU_HOUR.mode()"
   ]
  },
  {
   "cell_type": "code",
   "execution_count": 185,
   "metadata": {},
   "outputs": [],
   "source": [
    "all_apps.AMT_REQ_CREDIT_BUREAU_HOUR.fillna(mode_val, inplace=True)"
   ]
  },
  {
   "cell_type": "markdown",
   "metadata": {},
   "source": [
    "#### 3.4.5. AMT_REQ_CREDIT_BUREAU_DAY"
   ]
  },
  {
   "cell_type": "code",
   "execution_count": 186,
   "metadata": {},
   "outputs": [
    {
     "data": {
      "text/plain": [
       "0.0    1235221\n",
       "1.0       6412\n",
       "2.0        374\n",
       "3.0        174\n",
       "4.0         68\n",
       "6.0         28\n",
       "9.0         23\n",
       "5.0         22\n",
       "Name: AMT_REQ_CREDIT_BUREAU_DAY, dtype: int64"
      ]
     },
     "execution_count": 186,
     "metadata": {},
     "output_type": "execute_result"
    }
   ],
   "source": [
    "all_apps.AMT_REQ_CREDIT_BUREAU_DAY.value_counts()"
   ]
  },
  {
   "cell_type": "markdown",
   "metadata": {},
   "source": [
    "Can impute with mode here"
   ]
  },
  {
   "cell_type": "code",
   "execution_count": 187,
   "metadata": {},
   "outputs": [],
   "source": [
    "mode_val = all_apps.AMT_REQ_CREDIT_BUREAU_DAY.mode()\n",
    "all_apps.AMT_REQ_CREDIT_BUREAU_DAY.fillna(mode_val, inplace=True)"
   ]
  },
  {
   "cell_type": "markdown",
   "metadata": {},
   "source": [
    "#### 3.4.6. AMT_REQ_CREDIT_BUREAU_WEEK"
   ]
  },
  {
   "cell_type": "code",
   "execution_count": 188,
   "metadata": {},
   "outputs": [
    {
     "data": {
      "text/plain": [
       "0.0    1196991\n",
       "1.0      43833\n",
       "2.0        991\n",
       "3.0        231\n",
       "4.0        133\n",
       "6.0         60\n",
       "8.0         53\n",
       "5.0         24\n",
       "7.0          6\n",
       "Name: AMT_REQ_CREDIT_BUREAU_WEEK, dtype: int64"
      ]
     },
     "execution_count": 188,
     "metadata": {},
     "output_type": "execute_result"
    }
   ],
   "source": [
    "all_apps.AMT_REQ_CREDIT_BUREAU_WEEK.value_counts()"
   ]
  },
  {
   "cell_type": "code",
   "execution_count": 189,
   "metadata": {},
   "outputs": [],
   "source": [
    "mode_val = all_apps.AMT_REQ_CREDIT_BUREAU_WEEK.mode()\n",
    "all_apps.AMT_REQ_CREDIT_BUREAU_WEEK.fillna(mode_val, inplace=True)"
   ]
  },
  {
   "cell_type": "markdown",
   "metadata": {},
   "source": [
    "#### 3.4.7. AMT_REQ_CREDIT_BUREAU_MON"
   ]
  },
  {
   "cell_type": "code",
   "execution_count": 190,
   "metadata": {},
   "outputs": [
    {
     "data": {
      "text/plain": [
       "0.0     1012939\n",
       "1.0      173419\n",
       "2.0       28628\n",
       "3.0       10338\n",
       "4.0        5539\n",
       "5.0        3230\n",
       "6.0        1786\n",
       "7.0        1586\n",
       "9.0        1054\n",
       "8.0         912\n",
       "10.0        691\n",
       "11.0        639\n",
       "12.0        454\n",
       "13.0        379\n",
       "15.0        206\n",
       "14.0        200\n",
       "16.0        134\n",
       "17.0         74\n",
       "22.0         52\n",
       "18.0         26\n",
       "19.0         18\n",
       "24.0          9\n",
       "27.0          6\n",
       "23.0          3\n",
       "Name: AMT_REQ_CREDIT_BUREAU_MON, dtype: int64"
      ]
     },
     "execution_count": 190,
     "metadata": {},
     "output_type": "execute_result"
    }
   ],
   "source": [
    "all_apps.AMT_REQ_CREDIT_BUREAU_MON.value_counts()"
   ]
  },
  {
   "cell_type": "code",
   "execution_count": 191,
   "metadata": {},
   "outputs": [],
   "source": [
    "mode_val = all_apps.AMT_REQ_CREDIT_BUREAU_MON.mode()\n",
    "all_apps.AMT_REQ_CREDIT_BUREAU_MON.fillna(mode_val, inplace=True)"
   ]
  },
  {
   "cell_type": "markdown",
   "metadata": {},
   "source": [
    "#### 3.4.8. AMT_REQ_CREDIT_BUREAU_QRT"
   ]
  },
  {
   "cell_type": "code",
   "execution_count": 192,
   "metadata": {},
   "outputs": [
    {
     "data": {
      "text/plain": [
       "0.0      943572\n",
       "1.0      177263\n",
       "2.0      101782\n",
       "3.0       13651\n",
       "4.0        4878\n",
       "5.0         802\n",
       "6.0         294\n",
       "8.0          41\n",
       "7.0          33\n",
       "261.0         6\n",
       "Name: AMT_REQ_CREDIT_BUREAU_QRT, dtype: int64"
      ]
     },
     "execution_count": 192,
     "metadata": {},
     "output_type": "execute_result"
    }
   ],
   "source": [
    "all_apps.AMT_REQ_CREDIT_BUREAU_QRT.value_counts()"
   ]
  },
  {
   "cell_type": "code",
   "execution_count": 193,
   "metadata": {},
   "outputs": [],
   "source": [
    "mode_val = all_apps.AMT_REQ_CREDIT_BUREAU_QRT.mode()\n",
    "all_apps.AMT_REQ_CREDIT_BUREAU_QRT.fillna(mode_val, inplace=True)"
   ]
  },
  {
   "cell_type": "markdown",
   "metadata": {},
   "source": [
    "#### 3.4.9. AMT_REQ_CREDIT_BUREAU_YEAR"
   ]
  },
  {
   "cell_type": "code",
   "execution_count": 194,
   "metadata": {},
   "outputs": [
    {
     "data": {
      "text/plain": [
       "2.0     234942\n",
       "1.0     219001\n",
       "3.0     209383\n",
       "4.0     154458\n",
       "0.0     153603\n",
       "5.0     107483\n",
       "6.0      71495\n",
       "7.0      45988\n",
       "8.0      27394\n",
       "9.0      15844\n",
       "12.0       608\n",
       "11.0       544\n",
       "13.0       362\n",
       "10.0       336\n",
       "17.0       219\n",
       "14.0       205\n",
       "15.0       146\n",
       "18.0        92\n",
       "19.0        71\n",
       "16.0        64\n",
       "20.0        24\n",
       "25.0        23\n",
       "21.0        14\n",
       "22.0        12\n",
       "23.0        11\n",
       "Name: AMT_REQ_CREDIT_BUREAU_YEAR, dtype: int64"
      ]
     },
     "execution_count": 194,
     "metadata": {},
     "output_type": "execute_result"
    }
   ],
   "source": [
    "all_apps.AMT_REQ_CREDIT_BUREAU_YEAR.value_counts()"
   ]
  },
  {
   "cell_type": "code",
   "execution_count": 195,
   "metadata": {},
   "outputs": [],
   "source": [
    "mode_val = all_apps.AMT_REQ_CREDIT_BUREAU_YEAR.mode()\n",
    "all_apps.AMT_REQ_CREDIT_BUREAU_YEAR.fillna(mode_val, inplace=True)"
   ]
  },
  {
   "cell_type": "markdown",
   "metadata": {},
   "source": [
    "#### These columns don't have enough missing values to drop them, but they have enough missing values that dropping those rows would reduce the amount of data available.\n",
    "#### Since the missing values are not changing the type of the columns, meaning they are not affecting any statistical operations on the columns, it is safe to leave these columns as they are.\n",
    "#### However, care should be taken to take this into account when performing any operation involving these columns."
   ]
  },
  {
   "cell_type": "markdown",
   "metadata": {},
   "source": [
    "### 4. Outlier detection & handling"
   ]
  },
  {
   "cell_type": "markdown",
   "metadata": {},
   "source": [
    "#### 4.1. Outlier detection"
   ]
  },
  {
   "cell_type": "code",
   "execution_count": 196,
   "metadata": {},
   "outputs": [
    {
     "data": {
      "text/plain": [
       "Index(['SK_ID_CURR', 'TARGET', 'NAME_CONTRACT_TYPE', 'CODE_GENDER',\n",
       "       'FLAG_OWN_CAR', 'FLAG_OWN_REALTY', 'CNT_CHILDREN', 'AMT_INCOME_TOTAL',\n",
       "       'AMT_CREDIT', 'AMT_ANNUITY',\n",
       "       ...\n",
       "       'NAME_SELLER_INDUSTRY', 'CNT_PAYMENT', 'NAME_YIELD_GROUP',\n",
       "       'PRODUCT_COMBINATION', 'DAYS_FIRST_DRAWING', 'DAYS_FIRST_DUE',\n",
       "       'DAYS_LAST_DUE_1ST_VERSION', 'DAYS_LAST_DUE', 'DAYS_TERMINATION',\n",
       "       'NFLAG_INSURED_ON_APPROVAL'],\n",
       "      dtype='object', length=158)"
      ]
     },
     "execution_count": 196,
     "metadata": {},
     "output_type": "execute_result"
    }
   ],
   "source": [
    "cols"
   ]
  },
  {
   "cell_type": "code",
   "execution_count": 197,
   "metadata": {},
   "outputs": [],
   "source": [
    "# Collect all numeric columns into one dataframe\n",
    "all_apps_numeric = pd.DataFrame()\n",
    "\n",
    "# Loop over columns and check the type\n",
    "for col in all_apps.columns:\n",
    "    if ('_ID_' in col) or ('FLAG_' in col) or col == 'TARGET':\n",
    "        # Ignore ids and flags and Target variable\n",
    "        continue\n",
    "    if (np.issubdtype(all_apps[col], np.number)):\n",
    "        all_apps_numeric[col] = all_apps[col]"
   ]
  },
  {
   "cell_type": "code",
   "execution_count": 198,
   "metadata": {},
   "outputs": [
    {
     "data": {
      "text/html": [
       "<div>\n",
       "<style scoped>\n",
       "    .dataframe tbody tr th:only-of-type {\n",
       "        vertical-align: middle;\n",
       "    }\n",
       "\n",
       "    .dataframe tbody tr th {\n",
       "        vertical-align: top;\n",
       "    }\n",
       "\n",
       "    .dataframe thead th {\n",
       "        text-align: right;\n",
       "    }\n",
       "</style>\n",
       "<table border=\"1\" class=\"dataframe\">\n",
       "  <thead>\n",
       "    <tr style=\"text-align: right;\">\n",
       "      <th></th>\n",
       "      <th>CNT_CHILDREN</th>\n",
       "      <th>AMT_INCOME_TOTAL</th>\n",
       "      <th>AMT_CREDIT</th>\n",
       "      <th>AMT_ANNUITY</th>\n",
       "      <th>AMT_GOODS_PRICE</th>\n",
       "      <th>REGION_POPULATION_RELATIVE</th>\n",
       "      <th>DAYS_BIRTH</th>\n",
       "      <th>DAYS_EMPLOYED</th>\n",
       "      <th>DAYS_REGISTRATION</th>\n",
       "      <th>CNT_FAM_MEMBERS</th>\n",
       "      <th>...</th>\n",
       "      <th>AMT_CREDIT_PREV</th>\n",
       "      <th>AMT_GOODS_PRICE_PREV</th>\n",
       "      <th>HOUR_APPR_PROCESS_START_PREV</th>\n",
       "      <th>DAYS_DECISION</th>\n",
       "      <th>SELLERPLACE_AREA</th>\n",
       "      <th>DAYS_FIRST_DRAWING</th>\n",
       "      <th>DAYS_FIRST_DUE</th>\n",
       "      <th>DAYS_LAST_DUE_1ST_VERSION</th>\n",
       "      <th>DAYS_LAST_DUE</th>\n",
       "      <th>DAYS_TERMINATION</th>\n",
       "    </tr>\n",
       "  </thead>\n",
       "  <tbody>\n",
       "    <tr>\n",
       "      <th>0</th>\n",
       "      <td>0</td>\n",
       "      <td>202500.0</td>\n",
       "      <td>406597.5</td>\n",
       "      <td>24700.5</td>\n",
       "      <td>351000.0</td>\n",
       "      <td>0.018801</td>\n",
       "      <td>-9461</td>\n",
       "      <td>-637</td>\n",
       "      <td>-3648.0</td>\n",
       "      <td>1.0</td>\n",
       "      <td>...</td>\n",
       "      <td>179055.0</td>\n",
       "      <td>179055.0</td>\n",
       "      <td>9.0</td>\n",
       "      <td>-606.0</td>\n",
       "      <td>500.0</td>\n",
       "      <td>365243.0</td>\n",
       "      <td>-565.0</td>\n",
       "      <td>125.0</td>\n",
       "      <td>-25.0</td>\n",
       "      <td>-17.0</td>\n",
       "    </tr>\n",
       "    <tr>\n",
       "      <th>1</th>\n",
       "      <td>0</td>\n",
       "      <td>270000.0</td>\n",
       "      <td>1293502.5</td>\n",
       "      <td>35698.5</td>\n",
       "      <td>1129500.0</td>\n",
       "      <td>0.003541</td>\n",
       "      <td>-16765</td>\n",
       "      <td>-1188</td>\n",
       "      <td>-1186.0</td>\n",
       "      <td>2.0</td>\n",
       "      <td>...</td>\n",
       "      <td>1035882.0</td>\n",
       "      <td>900000.0</td>\n",
       "      <td>12.0</td>\n",
       "      <td>-746.0</td>\n",
       "      <td>-1.0</td>\n",
       "      <td>365243.0</td>\n",
       "      <td>-716.0</td>\n",
       "      <td>-386.0</td>\n",
       "      <td>-536.0</td>\n",
       "      <td>-527.0</td>\n",
       "    </tr>\n",
       "    <tr>\n",
       "      <th>2</th>\n",
       "      <td>0</td>\n",
       "      <td>270000.0</td>\n",
       "      <td>1293502.5</td>\n",
       "      <td>35698.5</td>\n",
       "      <td>1129500.0</td>\n",
       "      <td>0.003541</td>\n",
       "      <td>-16765</td>\n",
       "      <td>-1188</td>\n",
       "      <td>-1186.0</td>\n",
       "      <td>2.0</td>\n",
       "      <td>...</td>\n",
       "      <td>348637.5</td>\n",
       "      <td>337500.0</td>\n",
       "      <td>17.0</td>\n",
       "      <td>-828.0</td>\n",
       "      <td>1400.0</td>\n",
       "      <td>365243.0</td>\n",
       "      <td>-797.0</td>\n",
       "      <td>-647.0</td>\n",
       "      <td>-647.0</td>\n",
       "      <td>-639.0</td>\n",
       "    </tr>\n",
       "    <tr>\n",
       "      <th>3</th>\n",
       "      <td>0</td>\n",
       "      <td>270000.0</td>\n",
       "      <td>1293502.5</td>\n",
       "      <td>35698.5</td>\n",
       "      <td>1129500.0</td>\n",
       "      <td>0.003541</td>\n",
       "      <td>-16765</td>\n",
       "      <td>-1188</td>\n",
       "      <td>-1186.0</td>\n",
       "      <td>2.0</td>\n",
       "      <td>...</td>\n",
       "      <td>68053.5</td>\n",
       "      <td>68809.5</td>\n",
       "      <td>15.0</td>\n",
       "      <td>-2341.0</td>\n",
       "      <td>200.0</td>\n",
       "      <td>365243.0</td>\n",
       "      <td>-2310.0</td>\n",
       "      <td>-1980.0</td>\n",
       "      <td>-1980.0</td>\n",
       "      <td>-1976.0</td>\n",
       "    </tr>\n",
       "    <tr>\n",
       "      <th>4</th>\n",
       "      <td>0</td>\n",
       "      <td>67500.0</td>\n",
       "      <td>135000.0</td>\n",
       "      <td>6750.0</td>\n",
       "      <td>135000.0</td>\n",
       "      <td>0.010032</td>\n",
       "      <td>-19046</td>\n",
       "      <td>-225</td>\n",
       "      <td>-4260.0</td>\n",
       "      <td>1.0</td>\n",
       "      <td>...</td>\n",
       "      <td>20106.0</td>\n",
       "      <td>24282.0</td>\n",
       "      <td>5.0</td>\n",
       "      <td>-815.0</td>\n",
       "      <td>30.0</td>\n",
       "      <td>365243.0</td>\n",
       "      <td>-784.0</td>\n",
       "      <td>-694.0</td>\n",
       "      <td>-724.0</td>\n",
       "      <td>-714.0</td>\n",
       "    </tr>\n",
       "  </tbody>\n",
       "</table>\n",
       "<p>5 rows × 57 columns</p>\n",
       "</div>"
      ],
      "text/plain": [
       "   CNT_CHILDREN  AMT_INCOME_TOTAL  AMT_CREDIT  AMT_ANNUITY  AMT_GOODS_PRICE  \\\n",
       "0             0          202500.0    406597.5      24700.5         351000.0   \n",
       "1             0          270000.0   1293502.5      35698.5        1129500.0   \n",
       "2             0          270000.0   1293502.5      35698.5        1129500.0   \n",
       "3             0          270000.0   1293502.5      35698.5        1129500.0   \n",
       "4             0           67500.0    135000.0       6750.0         135000.0   \n",
       "\n",
       "   REGION_POPULATION_RELATIVE  DAYS_BIRTH  DAYS_EMPLOYED  DAYS_REGISTRATION  \\\n",
       "0                    0.018801       -9461           -637            -3648.0   \n",
       "1                    0.003541      -16765          -1188            -1186.0   \n",
       "2                    0.003541      -16765          -1188            -1186.0   \n",
       "3                    0.003541      -16765          -1188            -1186.0   \n",
       "4                    0.010032      -19046           -225            -4260.0   \n",
       "\n",
       "   CNT_FAM_MEMBERS  ...  AMT_CREDIT_PREV  AMT_GOODS_PRICE_PREV  \\\n",
       "0              1.0  ...         179055.0              179055.0   \n",
       "1              2.0  ...        1035882.0              900000.0   \n",
       "2              2.0  ...         348637.5              337500.0   \n",
       "3              2.0  ...          68053.5               68809.5   \n",
       "4              1.0  ...          20106.0               24282.0   \n",
       "\n",
       "   HOUR_APPR_PROCESS_START_PREV  DAYS_DECISION  SELLERPLACE_AREA  \\\n",
       "0                           9.0         -606.0             500.0   \n",
       "1                          12.0         -746.0              -1.0   \n",
       "2                          17.0         -828.0            1400.0   \n",
       "3                          15.0        -2341.0             200.0   \n",
       "4                           5.0         -815.0              30.0   \n",
       "\n",
       "   DAYS_FIRST_DRAWING  DAYS_FIRST_DUE  DAYS_LAST_DUE_1ST_VERSION  \\\n",
       "0            365243.0          -565.0                      125.0   \n",
       "1            365243.0          -716.0                     -386.0   \n",
       "2            365243.0          -797.0                     -647.0   \n",
       "3            365243.0         -2310.0                    -1980.0   \n",
       "4            365243.0          -784.0                     -694.0   \n",
       "\n",
       "   DAYS_LAST_DUE  DAYS_TERMINATION  \n",
       "0          -25.0             -17.0  \n",
       "1         -536.0            -527.0  \n",
       "2         -647.0            -639.0  \n",
       "3        -1980.0           -1976.0  \n",
       "4         -724.0            -714.0  \n",
       "\n",
       "[5 rows x 57 columns]"
      ]
     },
     "execution_count": 198,
     "metadata": {},
     "output_type": "execute_result"
    }
   ],
   "source": [
    "all_apps_numeric.head()"
   ]
  },
  {
   "cell_type": "code",
   "execution_count": 199,
   "metadata": {},
   "outputs": [],
   "source": [
    "all_apps_outliers = pd.DataFrame(columns={'name', 'num outliers', 'outlier percent'})\n",
    "\n",
    "# Get number of columns\n",
    "sz = all_apps_numeric.shape[0]\n",
    "\n",
    "# Loop over columns to find the first and third quartiles, the IQR, and any outliers\n",
    "for col in all_apps_numeric.columns:\n",
    "    if (col == 'TARGET'):\n",
    "        continue\n",
    "    descr = all_apps_numeric[col].describe()\n",
    "\n",
    "    first = descr['25%']\n",
    "    third = descr['75%']\n",
    "    iqr = third - first\n",
    "    lower = first - (1.5 * iqr)\n",
    "    upper = third + (1.5 * iqr)\n",
    "\n",
    "    # Filter outliers\n",
    "    outliers = all_apps_numeric[(all_apps_numeric[col] < lower) | (all_apps_numeric[col] > upper)]\n",
    "\n",
    "    num = outliers.shape[0]\n",
    "\n",
    "    if (num == 0):\n",
    "        continue\n",
    "\n",
    "    percent = num / sz * 100\n",
    "\n",
    "    # record in DataFrame\n",
    "    all_apps_outliers = all_apps_outliers.append({'name': col, 'num outliers': num, 'outlier percent': percent}, ignore_index=True)"
   ]
  },
  {
   "cell_type": "code",
   "execution_count": 200,
   "metadata": {},
   "outputs": [],
   "source": [
    "all_apps_outliers.sort_values(by='outlier percent', ascending=False, inplace=True)"
   ]
  },
  {
   "cell_type": "code",
   "execution_count": 201,
   "metadata": {},
   "outputs": [
    {
     "data": {
      "text/html": [
       "<div>\n",
       "<style scoped>\n",
       "    .dataframe tbody tr th:only-of-type {\n",
       "        vertical-align: middle;\n",
       "    }\n",
       "\n",
       "    .dataframe tbody tr th {\n",
       "        vertical-align: top;\n",
       "    }\n",
       "\n",
       "    .dataframe thead th {\n",
       "        text-align: right;\n",
       "    }\n",
       "</style>\n",
       "<table border=\"1\" class=\"dataframe\">\n",
       "  <thead>\n",
       "    <tr style=\"text-align: right;\">\n",
       "      <th></th>\n",
       "      <th>num outliers</th>\n",
       "      <th>name</th>\n",
       "      <th>outlier percent</th>\n",
       "    </tr>\n",
       "  </thead>\n",
       "  <tbody>\n",
       "    <tr>\n",
       "      <th>9</th>\n",
       "      <td>350287</td>\n",
       "      <td>REGION_RATING_CLIENT</td>\n",
       "      <td>24.934796</td>\n",
       "    </tr>\n",
       "    <tr>\n",
       "      <th>6</th>\n",
       "      <td>342719</td>\n",
       "      <td>DAYS_EMPLOYED</td>\n",
       "      <td>24.396076</td>\n",
       "    </tr>\n",
       "    <tr>\n",
       "      <th>10</th>\n",
       "      <td>337400</td>\n",
       "      <td>REGION_RATING_CLIENT_W_CITY</td>\n",
       "      <td>24.017449</td>\n",
       "    </tr>\n",
       "    <tr>\n",
       "      <th>16</th>\n",
       "      <td>311885</td>\n",
       "      <td>REG_CITY_NOT_WORK_CITY</td>\n",
       "      <td>22.201191</td>\n",
       "    </tr>\n",
       "    <tr>\n",
       "      <th>40</th>\n",
       "      <td>298750</td>\n",
       "      <td>AMT_REQ_CREDIT_BUREAU_QRT</td>\n",
       "      <td>21.266191</td>\n",
       "    </tr>\n",
       "    <tr>\n",
       "      <th>17</th>\n",
       "      <td>244395</td>\n",
       "      <td>LIVE_CITY_NOT_WORK_CITY</td>\n",
       "      <td>17.396990</td>\n",
       "    </tr>\n",
       "    <tr>\n",
       "      <th>39</th>\n",
       "      <td>229383</td>\n",
       "      <td>AMT_REQ_CREDIT_BUREAU_MON</td>\n",
       "      <td>16.328377</td>\n",
       "    </tr>\n",
       "    <tr>\n",
       "      <th>48</th>\n",
       "      <td>225601</td>\n",
       "      <td>SELLERPLACE_AREA</td>\n",
       "      <td>16.059160</td>\n",
       "    </tr>\n",
       "    <tr>\n",
       "      <th>53</th>\n",
       "      <td>192921</td>\n",
       "      <td>DAYS_TERMINATION</td>\n",
       "      <td>13.732870</td>\n",
       "    </tr>\n",
       "    <tr>\n",
       "      <th>52</th>\n",
       "      <td>179731</td>\n",
       "      <td>DAYS_LAST_DUE</td>\n",
       "      <td>12.793954</td>\n",
       "    </tr>\n",
       "    <tr>\n",
       "      <th>43</th>\n",
       "      <td>174379</td>\n",
       "      <td>AMT_APPLICATION</td>\n",
       "      <td>12.412978</td>\n",
       "    </tr>\n",
       "    <tr>\n",
       "      <th>32</th>\n",
       "      <td>170999</td>\n",
       "      <td>DEF_30_CNT_SOCIAL_CIRCLE</td>\n",
       "      <td>12.172376</td>\n",
       "    </tr>\n",
       "    <tr>\n",
       "      <th>44</th>\n",
       "      <td>151591</td>\n",
       "      <td>AMT_CREDIT_PREV</td>\n",
       "      <td>10.790839</td>\n",
       "    </tr>\n",
       "    <tr>\n",
       "      <th>34</th>\n",
       "      <td>126144</td>\n",
       "      <td>DEF_60_CNT_SOCIAL_CIRCLE</td>\n",
       "      <td>8.979422</td>\n",
       "    </tr>\n",
       "    <tr>\n",
       "      <th>45</th>\n",
       "      <td>123379</td>\n",
       "      <td>AMT_GOODS_PRICE_PREV</td>\n",
       "      <td>8.782599</td>\n",
       "    </tr>\n",
       "    <tr>\n",
       "      <th>31</th>\n",
       "      <td>106402</td>\n",
       "      <td>OBS_30_CNT_SOCIAL_CIRCLE</td>\n",
       "      <td>7.574110</td>\n",
       "    </tr>\n",
       "    <tr>\n",
       "      <th>33</th>\n",
       "      <td>104412</td>\n",
       "      <td>OBS_60_CNT_SOCIAL_CIRCLE</td>\n",
       "      <td>7.432454</td>\n",
       "    </tr>\n",
       "    <tr>\n",
       "      <th>15</th>\n",
       "      <td>103313</td>\n",
       "      <td>REG_CITY_NOT_LIVE_CITY</td>\n",
       "      <td>7.354222</td>\n",
       "    </tr>\n",
       "    <tr>\n",
       "      <th>51</th>\n",
       "      <td>78908</td>\n",
       "      <td>DAYS_LAST_DUE_1ST_VERSION</td>\n",
       "      <td>5.616979</td>\n",
       "    </tr>\n",
       "    <tr>\n",
       "      <th>42</th>\n",
       "      <td>70591</td>\n",
       "      <td>AMT_ANNUITY_PREV</td>\n",
       "      <td>5.024943</td>\n",
       "    </tr>\n",
       "    <tr>\n",
       "      <th>1</th>\n",
       "      <td>63941</td>\n",
       "      <td>AMT_INCOME_TOTAL</td>\n",
       "      <td>4.551570</td>\n",
       "    </tr>\n",
       "    <tr>\n",
       "      <th>13</th>\n",
       "      <td>61660</td>\n",
       "      <td>REG_REGION_NOT_WORK_REGION</td>\n",
       "      <td>4.389199</td>\n",
       "    </tr>\n",
       "    <tr>\n",
       "      <th>25</th>\n",
       "      <td>60588</td>\n",
       "      <td>LIVINGAREA_MODE</td>\n",
       "      <td>4.312890</td>\n",
       "    </tr>\n",
       "    <tr>\n",
       "      <th>29</th>\n",
       "      <td>59977</td>\n",
       "      <td>LIVINGAREA_MEDI</td>\n",
       "      <td>4.269397</td>\n",
       "    </tr>\n",
       "    <tr>\n",
       "      <th>21</th>\n",
       "      <td>58734</td>\n",
       "      <td>LIVINGAREA_AVG</td>\n",
       "      <td>4.180915</td>\n",
       "    </tr>\n",
       "    <tr>\n",
       "      <th>30</th>\n",
       "      <td>57731</td>\n",
       "      <td>TOTALAREA_MODE</td>\n",
       "      <td>4.109518</td>\n",
       "    </tr>\n",
       "    <tr>\n",
       "      <th>4</th>\n",
       "      <td>56864</td>\n",
       "      <td>AMT_GOODS_PRICE</td>\n",
       "      <td>4.047801</td>\n",
       "    </tr>\n",
       "    <tr>\n",
       "      <th>49</th>\n",
       "      <td>53367</td>\n",
       "      <td>DAYS_FIRST_DRAWING</td>\n",
       "      <td>3.798871</td>\n",
       "    </tr>\n",
       "    <tr>\n",
       "      <th>14</th>\n",
       "      <td>50504</td>\n",
       "      <td>LIVE_REGION_NOT_WORK_REGION</td>\n",
       "      <td>3.595072</td>\n",
       "    </tr>\n",
       "    <tr>\n",
       "      <th>38</th>\n",
       "      <td>45331</td>\n",
       "      <td>AMT_REQ_CREDIT_BUREAU_WEEK</td>\n",
       "      <td>3.226837</td>\n",
       "    </tr>\n",
       "    <tr>\n",
       "      <th>50</th>\n",
       "      <td>33858</td>\n",
       "      <td>DAYS_FIRST_DUE</td>\n",
       "      <td>2.410145</td>\n",
       "    </tr>\n",
       "    <tr>\n",
       "      <th>5</th>\n",
       "      <td>33696</td>\n",
       "      <td>REGION_POPULATION_RELATIVE</td>\n",
       "      <td>2.398613</td>\n",
       "    </tr>\n",
       "    <tr>\n",
       "      <th>3</th>\n",
       "      <td>29682</td>\n",
       "      <td>AMT_ANNUITY</td>\n",
       "      <td>2.112881</td>\n",
       "    </tr>\n",
       "    <tr>\n",
       "      <th>2</th>\n",
       "      <td>23790</td>\n",
       "      <td>AMT_CREDIT</td>\n",
       "      <td>1.693465</td>\n",
       "    </tr>\n",
       "    <tr>\n",
       "      <th>18</th>\n",
       "      <td>22511</td>\n",
       "      <td>YEARS_BEGINEXPLUATATION_AVG</td>\n",
       "      <td>1.602421</td>\n",
       "    </tr>\n",
       "    <tr>\n",
       "      <th>26</th>\n",
       "      <td>22420</td>\n",
       "      <td>YEARS_BEGINEXPLUATATION_MEDI</td>\n",
       "      <td>1.595943</td>\n",
       "    </tr>\n",
       "    <tr>\n",
       "      <th>28</th>\n",
       "      <td>22362</td>\n",
       "      <td>FLOORSMAX_MEDI</td>\n",
       "      <td>1.591814</td>\n",
       "    </tr>\n",
       "    <tr>\n",
       "      <th>20</th>\n",
       "      <td>21701</td>\n",
       "      <td>FLOORSMAX_AVG</td>\n",
       "      <td>1.544762</td>\n",
       "    </tr>\n",
       "    <tr>\n",
       "      <th>24</th>\n",
       "      <td>21264</td>\n",
       "      <td>FLOORSMAX_MODE</td>\n",
       "      <td>1.513654</td>\n",
       "    </tr>\n",
       "    <tr>\n",
       "      <th>22</th>\n",
       "      <td>20543</td>\n",
       "      <td>YEARS_BEGINEXPLUATATION_MODE</td>\n",
       "      <td>1.462331</td>\n",
       "    </tr>\n",
       "    <tr>\n",
       "      <th>0</th>\n",
       "      <td>19614</td>\n",
       "      <td>CNT_CHILDREN</td>\n",
       "      <td>1.396201</td>\n",
       "    </tr>\n",
       "    <tr>\n",
       "      <th>41</th>\n",
       "      <td>18575</td>\n",
       "      <td>AMT_REQ_CREDIT_BUREAU_YEAR</td>\n",
       "      <td>1.322241</td>\n",
       "    </tr>\n",
       "    <tr>\n",
       "      <th>8</th>\n",
       "      <td>18427</td>\n",
       "      <td>CNT_FAM_MEMBERS</td>\n",
       "      <td>1.311706</td>\n",
       "    </tr>\n",
       "    <tr>\n",
       "      <th>27</th>\n",
       "      <td>17453</td>\n",
       "      <td>ENTRANCES_MEDI</td>\n",
       "      <td>1.242373</td>\n",
       "    </tr>\n",
       "    <tr>\n",
       "      <th>19</th>\n",
       "      <td>17395</td>\n",
       "      <td>ENTRANCES_AVG</td>\n",
       "      <td>1.238244</td>\n",
       "    </tr>\n",
       "    <tr>\n",
       "      <th>23</th>\n",
       "      <td>17282</td>\n",
       "      <td>ENTRANCES_MODE</td>\n",
       "      <td>1.230200</td>\n",
       "    </tr>\n",
       "    <tr>\n",
       "      <th>12</th>\n",
       "      <td>16964</td>\n",
       "      <td>REG_REGION_NOT_LIVE_REGION</td>\n",
       "      <td>1.207564</td>\n",
       "    </tr>\n",
       "    <tr>\n",
       "      <th>11</th>\n",
       "      <td>9465</td>\n",
       "      <td>HOUR_APPR_PROCESS_START</td>\n",
       "      <td>0.673756</td>\n",
       "    </tr>\n",
       "    <tr>\n",
       "      <th>36</th>\n",
       "      <td>7421</td>\n",
       "      <td>AMT_REQ_CREDIT_BUREAU_HOUR</td>\n",
       "      <td>0.528256</td>\n",
       "    </tr>\n",
       "    <tr>\n",
       "      <th>37</th>\n",
       "      <td>7101</td>\n",
       "      <td>AMT_REQ_CREDIT_BUREAU_DAY</td>\n",
       "      <td>0.505477</td>\n",
       "    </tr>\n",
       "    <tr>\n",
       "      <th>47</th>\n",
       "      <td>6634</td>\n",
       "      <td>DAYS_DECISION</td>\n",
       "      <td>0.472234</td>\n",
       "    </tr>\n",
       "    <tr>\n",
       "      <th>7</th>\n",
       "      <td>3077</td>\n",
       "      <td>DAYS_REGISTRATION</td>\n",
       "      <td>0.219033</td>\n",
       "    </tr>\n",
       "    <tr>\n",
       "      <th>46</th>\n",
       "      <td>1377</td>\n",
       "      <td>HOUR_APPR_PROCESS_START_PREV</td>\n",
       "      <td>0.098020</td>\n",
       "    </tr>\n",
       "    <tr>\n",
       "      <th>35</th>\n",
       "      <td>588</td>\n",
       "      <td>DAYS_LAST_PHONE_CHANGE</td>\n",
       "      <td>0.041856</td>\n",
       "    </tr>\n",
       "  </tbody>\n",
       "</table>\n",
       "</div>"
      ],
      "text/plain": [
       "   num outliers                          name  outlier percent\n",
       "9        350287          REGION_RATING_CLIENT        24.934796\n",
       "6        342719                 DAYS_EMPLOYED        24.396076\n",
       "10       337400   REGION_RATING_CLIENT_W_CITY        24.017449\n",
       "16       311885        REG_CITY_NOT_WORK_CITY        22.201191\n",
       "40       298750     AMT_REQ_CREDIT_BUREAU_QRT        21.266191\n",
       "17       244395       LIVE_CITY_NOT_WORK_CITY        17.396990\n",
       "39       229383     AMT_REQ_CREDIT_BUREAU_MON        16.328377\n",
       "48       225601              SELLERPLACE_AREA        16.059160\n",
       "53       192921              DAYS_TERMINATION        13.732870\n",
       "52       179731                 DAYS_LAST_DUE        12.793954\n",
       "43       174379               AMT_APPLICATION        12.412978\n",
       "32       170999      DEF_30_CNT_SOCIAL_CIRCLE        12.172376\n",
       "44       151591               AMT_CREDIT_PREV        10.790839\n",
       "34       126144      DEF_60_CNT_SOCIAL_CIRCLE         8.979422\n",
       "45       123379          AMT_GOODS_PRICE_PREV         8.782599\n",
       "31       106402      OBS_30_CNT_SOCIAL_CIRCLE         7.574110\n",
       "33       104412      OBS_60_CNT_SOCIAL_CIRCLE         7.432454\n",
       "15       103313        REG_CITY_NOT_LIVE_CITY         7.354222\n",
       "51        78908     DAYS_LAST_DUE_1ST_VERSION         5.616979\n",
       "42        70591              AMT_ANNUITY_PREV         5.024943\n",
       "1         63941              AMT_INCOME_TOTAL         4.551570\n",
       "13        61660    REG_REGION_NOT_WORK_REGION         4.389199\n",
       "25        60588               LIVINGAREA_MODE         4.312890\n",
       "29        59977               LIVINGAREA_MEDI         4.269397\n",
       "21        58734                LIVINGAREA_AVG         4.180915\n",
       "30        57731                TOTALAREA_MODE         4.109518\n",
       "4         56864               AMT_GOODS_PRICE         4.047801\n",
       "49        53367            DAYS_FIRST_DRAWING         3.798871\n",
       "14        50504   LIVE_REGION_NOT_WORK_REGION         3.595072\n",
       "38        45331    AMT_REQ_CREDIT_BUREAU_WEEK         3.226837\n",
       "50        33858                DAYS_FIRST_DUE         2.410145\n",
       "5         33696    REGION_POPULATION_RELATIVE         2.398613\n",
       "3         29682                   AMT_ANNUITY         2.112881\n",
       "2         23790                    AMT_CREDIT         1.693465\n",
       "18        22511   YEARS_BEGINEXPLUATATION_AVG         1.602421\n",
       "26        22420  YEARS_BEGINEXPLUATATION_MEDI         1.595943\n",
       "28        22362                FLOORSMAX_MEDI         1.591814\n",
       "20        21701                 FLOORSMAX_AVG         1.544762\n",
       "24        21264                FLOORSMAX_MODE         1.513654\n",
       "22        20543  YEARS_BEGINEXPLUATATION_MODE         1.462331\n",
       "0         19614                  CNT_CHILDREN         1.396201\n",
       "41        18575    AMT_REQ_CREDIT_BUREAU_YEAR         1.322241\n",
       "8         18427               CNT_FAM_MEMBERS         1.311706\n",
       "27        17453                ENTRANCES_MEDI         1.242373\n",
       "19        17395                 ENTRANCES_AVG         1.238244\n",
       "23        17282                ENTRANCES_MODE         1.230200\n",
       "12        16964    REG_REGION_NOT_LIVE_REGION         1.207564\n",
       "11         9465       HOUR_APPR_PROCESS_START         0.673756\n",
       "36         7421    AMT_REQ_CREDIT_BUREAU_HOUR         0.528256\n",
       "37         7101     AMT_REQ_CREDIT_BUREAU_DAY         0.505477\n",
       "47         6634                 DAYS_DECISION         0.472234\n",
       "7          3077             DAYS_REGISTRATION         0.219033\n",
       "46         1377  HOUR_APPR_PROCESS_START_PREV         0.098020\n",
       "35          588        DAYS_LAST_PHONE_CHANGE         0.041856"
      ]
     },
     "execution_count": 201,
     "metadata": {},
     "output_type": "execute_result"
    }
   ],
   "source": [
    "all_apps_outliers"
   ]
  },
  {
   "cell_type": "code",
   "execution_count": 202,
   "metadata": {},
   "outputs": [
    {
     "data": {
      "text/plain": [
       "(54, 3)"
      ]
     },
     "execution_count": 202,
     "metadata": {},
     "output_type": "execute_result"
    }
   ],
   "source": [
    "all_apps_outliers.shape"
   ]
  },
  {
   "cell_type": "markdown",
   "metadata": {},
   "source": [
    "### 4.1.1. Checking detected outliers"
   ]
  },
  {
   "cell_type": "code",
   "execution_count": 203,
   "metadata": {},
   "outputs": [],
   "source": [
    "# Writing outliers to file for ease in analysis, since there are 56 such columns\n",
    "def write_outliers_to_file(cols):\n",
    "    with open('outliers_info.txt', 'w') as f:\n",
    "        for col in cols:\n",
    "            res = ''\n",
    "\n",
    "            # print(col)\n",
    "            res = res + 'Column: ' + col + '\\n'\n",
    "\n",
    "            res = res + str(all_apps[col].value_counts())\n",
    "\n",
    "            res = res + '\\n\\n'\n",
    "\n",
    "            f.write(res)\n",
    "\n",
    "\n",
    "    f.close()\n",
    "\n",
    "    # print(res)\n",
    "\n"
   ]
  },
  {
   "cell_type": "code",
   "execution_count": 204,
   "metadata": {},
   "outputs": [],
   "source": [
    "write_outliers_to_file(list(all_apps_outliers['name'].values))"
   ]
  },
  {
   "cell_type": "code",
   "execution_count": 205,
   "metadata": {},
   "outputs": [
    {
     "data": {
      "text/plain": [
       "2    1054525\n",
       "3     217268\n",
       "1     133019\n",
       "Name: REGION_RATING_CLIENT, dtype: int64"
      ]
     },
     "execution_count": 205,
     "metadata": {},
     "output_type": "execute_result"
    }
   ],
   "source": [
    "all_apps['REGION_RATING_CLIENT'].value_counts()"
   ]
  },
  {
   "cell_type": "markdown",
   "metadata": {},
   "source": [
    "### 4.1.2. Wrongly detected outliers\n",
    "#### These are categorical variables where one option happens to be in more rows than the others. These should be treated as categorical variables\n",
    "* HOUR_APPR_PROCESS_START_x\n",
    "* HOUR_APPR_PROCESS_START_y\n",
    "* REGION_RATING_CLIENT\n",
    "* REGION_RATING_CLIENT_W_CITY\n",
    "* REG_CITY_NOT_WORK_CITY\n",
    "* LIVE_CITY_NOT_WORK_CITY\n",
    "* REG_CITY_NOT_LIVE_CITY\n",
    "* REG_REGION_NOT_WORK_REGION\n",
    "* LIVE_REGION_NOT_WORK_REGION\n",
    "* REG_REGION_NOT_LIVE_REGION\n",
    "\n",
    "#### These should be binned\n",
    "* DEF_30_CNT_SOCIAL_CIRCLE\n",
    "* DEF_60_CNT_SOCIAL_CIRCLE\n",
    "* OBS_30_CNT_SOCIAL_CIRCLE\n",
    "* OBS_60_CNT_SOCIAL_CIRCLE\n",
    "* CNT_CHILDREN\n",
    "* CNT_PAYMENT - Dropped\n",
    "* CNT_FAM_MEMBERS\n",
    "* AMT_REQ_CREDIT_BUREAU_WEEK\n",
    "* AMT_REQ_CREDIT_BUREAU_YEAR\n",
    "* AMT_REQ_CREDIT_BUREAU_HOUR\n",
    "* AMT_REQ_CREDIT_BUREAU_DAY\n",
    "\n",
    "#### Filter the loop\n",
    "* TARGET"
   ]
  },
  {
   "cell_type": "markdown",
   "metadata": {},
   "source": [
    "### 4.1.3. Binning"
   ]
  },
  {
   "cell_type": "markdown",
   "metadata": {},
   "source": [
    "#### 4.1.3.1. DEF_30_CNT_SOCIAL_CIRCLE"
   ]
  },
  {
   "cell_type": "code",
   "execution_count": 206,
   "metadata": {},
   "outputs": [
    {
     "data": {
      "text/plain": [
       "0.0     1233813\n",
       "1.0      136549\n",
       "2.0       25972\n",
       "3.0        6470\n",
       "4.0        1644\n",
       "5.0         289\n",
       "6.0          66\n",
       "7.0           4\n",
       "34.0          3\n",
       "8.0           2\n",
       "Name: DEF_30_CNT_SOCIAL_CIRCLE, dtype: int64"
      ]
     },
     "execution_count": 206,
     "metadata": {},
     "output_type": "execute_result"
    }
   ],
   "source": [
    "all_apps.DEF_30_CNT_SOCIAL_CIRCLE.value_counts()"
   ]
  },
  {
   "cell_type": "code",
   "execution_count": 207,
   "metadata": {},
   "outputs": [],
   "source": [
    "max_val = all_apps.DEF_30_CNT_SOCIAL_CIRCLE.max()"
   ]
  },
  {
   "cell_type": "code",
   "execution_count": 208,
   "metadata": {},
   "outputs": [],
   "source": [
    "x = pd.cut(all_apps.DEF_30_CNT_SOCIAL_CIRCLE, [0,1,6,max_val + 1], right=False, labels=['0', '1 to 5', 'More than 5'])"
   ]
  },
  {
   "cell_type": "code",
   "execution_count": 209,
   "metadata": {},
   "outputs": [
    {
     "data": {
      "text/plain": [
       "0              1233813\n",
       "1 to 5          170924\n",
       "More than 5         75\n",
       "Name: DEF_30_CNT_SOCIAL_CIRCLE, dtype: int64"
      ]
     },
     "execution_count": 209,
     "metadata": {},
     "output_type": "execute_result"
    }
   ],
   "source": [
    "x.value_counts()"
   ]
  },
  {
   "cell_type": "code",
   "execution_count": 210,
   "metadata": {},
   "outputs": [],
   "source": [
    "all_apps.DEF_30_CNT_SOCIAL_CIRCLE = x"
   ]
  },
  {
   "cell_type": "markdown",
   "metadata": {},
   "source": [
    "#### 4.1.3.2. DEF_60_CNT_SOCIAL_CIRCLE"
   ]
  },
  {
   "cell_type": "code",
   "execution_count": 211,
   "metadata": {},
   "outputs": [
    {
     "data": {
      "text/plain": [
       "0.0     1278668\n",
       "1.0      105987\n",
       "2.0       15877\n",
       "3.0        3231\n",
       "4.0         919\n",
       "5.0         109\n",
       "6.0          14\n",
       "7.0           4\n",
       "24.0          3\n",
       "Name: DEF_60_CNT_SOCIAL_CIRCLE, dtype: int64"
      ]
     },
     "execution_count": 211,
     "metadata": {},
     "output_type": "execute_result"
    }
   ],
   "source": [
    "all_apps.DEF_60_CNT_SOCIAL_CIRCLE.value_counts()"
   ]
  },
  {
   "cell_type": "code",
   "execution_count": 212,
   "metadata": {},
   "outputs": [],
   "source": [
    "max_val = all_apps.DEF_60_CNT_SOCIAL_CIRCLE.max()"
   ]
  },
  {
   "cell_type": "code",
   "execution_count": 213,
   "metadata": {},
   "outputs": [],
   "source": [
    "x = pd.cut(all_apps.DEF_60_CNT_SOCIAL_CIRCLE, [0,1,5,max_val + 1], right=False, labels=['0', '1 to 5', 'More than 5'])"
   ]
  },
  {
   "cell_type": "code",
   "execution_count": 214,
   "metadata": {},
   "outputs": [
    {
     "data": {
      "text/plain": [
       "0              1278668\n",
       "1 to 5          126014\n",
       "More than 5        130\n",
       "Name: DEF_60_CNT_SOCIAL_CIRCLE, dtype: int64"
      ]
     },
     "execution_count": 214,
     "metadata": {},
     "output_type": "execute_result"
    }
   ],
   "source": [
    "x.value_counts()"
   ]
  },
  {
   "cell_type": "code",
   "execution_count": 215,
   "metadata": {},
   "outputs": [],
   "source": [
    "all_apps.DEF_60_CNT_SOCIAL_CIRCLE = x"
   ]
  },
  {
   "cell_type": "markdown",
   "metadata": {},
   "source": [
    "#### 4.1.3.3. OBS_30_CNT_SOCIAL_CIRCLE"
   ]
  },
  {
   "cell_type": "code",
   "execution_count": 216,
   "metadata": {},
   "outputs": [
    {
     "data": {
      "text/plain": [
       "0.0      729871\n",
       "1.0      220142\n",
       "2.0      137713\n",
       "3.0       95957\n",
       "4.0       67783\n",
       "5.0       46944\n",
       "6.0       32875\n",
       "7.0       22917\n",
       "8.0       15217\n",
       "9.0       11057\n",
       "10.0       7545\n",
       "11.0       4762\n",
       "12.0       3994\n",
       "13.0       2442\n",
       "14.0       1555\n",
       "15.0       1087\n",
       "16.0        838\n",
       "17.0        632\n",
       "19.0        335\n",
       "18.0        296\n",
       "20.0        205\n",
       "21.0        173\n",
       "22.0        163\n",
       "24.0         80\n",
       "25.0         76\n",
       "23.0         57\n",
       "27.0         40\n",
       "29.0         19\n",
       "26.0         15\n",
       "30.0         13\n",
       "47.0          4\n",
       "348.0         3\n",
       "28.0          2\n",
       "Name: OBS_30_CNT_SOCIAL_CIRCLE, dtype: int64"
      ]
     },
     "execution_count": 216,
     "metadata": {},
     "output_type": "execute_result"
    }
   ],
   "source": [
    "all_apps.OBS_30_CNT_SOCIAL_CIRCLE.value_counts()"
   ]
  },
  {
   "cell_type": "code",
   "execution_count": 217,
   "metadata": {},
   "outputs": [],
   "source": [
    "max_val = all_apps.OBS_30_CNT_SOCIAL_CIRCLE.max()"
   ]
  },
  {
   "cell_type": "code",
   "execution_count": 218,
   "metadata": {},
   "outputs": [],
   "source": [
    "x = pd.cut(all_apps.OBS_30_CNT_SOCIAL_CIRCLE, [0,1,10,20,30,max_val + 1], right=False, labels=['0', '1 to 10', '11 to 20', '21 to 30', 'More than 30'])"
   ]
  },
  {
   "cell_type": "code",
   "execution_count": 219,
   "metadata": {},
   "outputs": [
    {
     "data": {
      "text/plain": [
       "0               729871\n",
       "1 to 10         650605\n",
       "11 to 20         23486\n",
       "21 to 30           830\n",
       "More than 30        20\n",
       "Name: OBS_30_CNT_SOCIAL_CIRCLE, dtype: int64"
      ]
     },
     "execution_count": 219,
     "metadata": {},
     "output_type": "execute_result"
    }
   ],
   "source": [
    "x.value_counts()"
   ]
  },
  {
   "cell_type": "code",
   "execution_count": 220,
   "metadata": {},
   "outputs": [],
   "source": [
    "all_apps.OBS_30_CNT_SOCIAL_CIRCLE = x"
   ]
  },
  {
   "cell_type": "markdown",
   "metadata": {},
   "source": [
    "#### 4.1.3.4. OBS_60_CNT_SOCIAL_CIRCLE"
   ]
  },
  {
   "cell_type": "code",
   "execution_count": 221,
   "metadata": {},
   "outputs": [
    {
     "data": {
      "text/plain": [
       "0.0      733149\n",
       "1.0      220668\n",
       "2.0      137682\n",
       "3.0       95461\n",
       "4.0       66999\n",
       "5.0       46441\n",
       "6.0       32412\n",
       "7.0       22779\n",
       "8.0       14728\n",
       "9.0       10800\n",
       "10.0       7396\n",
       "11.0       4749\n",
       "12.0       3744\n",
       "13.0       2417\n",
       "14.0       1449\n",
       "15.0       1066\n",
       "16.0        872\n",
       "17.0        564\n",
       "18.0        316\n",
       "19.0        301\n",
       "20.0        226\n",
       "21.0        157\n",
       "22.0        138\n",
       "24.0         95\n",
       "25.0         65\n",
       "23.0         50\n",
       "27.0         40\n",
       "29.0         27\n",
       "26.0          7\n",
       "30.0          5\n",
       "47.0          4\n",
       "344.0         3\n",
       "28.0          2\n",
       "Name: OBS_60_CNT_SOCIAL_CIRCLE, dtype: int64"
      ]
     },
     "execution_count": 221,
     "metadata": {},
     "output_type": "execute_result"
    }
   ],
   "source": [
    "all_apps.OBS_60_CNT_SOCIAL_CIRCLE.value_counts()"
   ]
  },
  {
   "cell_type": "code",
   "execution_count": 222,
   "metadata": {},
   "outputs": [],
   "source": [
    "max_val = all_apps.OBS_60_CNT_SOCIAL_CIRCLE.max()"
   ]
  },
  {
   "cell_type": "code",
   "execution_count": 223,
   "metadata": {},
   "outputs": [],
   "source": [
    "x = pd.cut(all_apps.OBS_60_CNT_SOCIAL_CIRCLE, [0,1,10,20,30,max_val + 1], right=False, labels=['0', '1 to 10', '11 to 20', '21 to 30', 'More than 30'])"
   ]
  },
  {
   "cell_type": "code",
   "execution_count": 224,
   "metadata": {},
   "outputs": [
    {
     "data": {
      "text/plain": [
       "0               733149\n",
       "1 to 10         647970\n",
       "11 to 20         22874\n",
       "21 to 30           807\n",
       "More than 30        12\n",
       "Name: OBS_60_CNT_SOCIAL_CIRCLE, dtype: int64"
      ]
     },
     "execution_count": 224,
     "metadata": {},
     "output_type": "execute_result"
    }
   ],
   "source": [
    "x.value_counts()"
   ]
  },
  {
   "cell_type": "code",
   "execution_count": 225,
   "metadata": {},
   "outputs": [],
   "source": [
    "all_apps.OBS_60_CNT_SOCIAL_CIRCLE = x"
   ]
  },
  {
   "cell_type": "markdown",
   "metadata": {},
   "source": [
    "#### 4.1.3.5. CNT_CHILDREN"
   ]
  },
  {
   "cell_type": "code",
   "execution_count": 226,
   "metadata": {},
   "outputs": [
    {
     "data": {
      "text/plain": [
       "0     998783\n",
       "1     266820\n",
       "2     119595\n",
       "3      17116\n",
       "4       1912\n",
       "5        415\n",
       "6         99\n",
       "7         19\n",
       "10        16\n",
       "8          8\n",
       "19         8\n",
       "9          7\n",
       "14         7\n",
       "12         4\n",
       "11         3\n",
       "Name: CNT_CHILDREN, dtype: int64"
      ]
     },
     "execution_count": 226,
     "metadata": {},
     "output_type": "execute_result"
    }
   ],
   "source": [
    "all_apps.CNT_CHILDREN.value_counts()"
   ]
  },
  {
   "cell_type": "code",
   "execution_count": 227,
   "metadata": {},
   "outputs": [],
   "source": [
    "max_val = all_apps.CNT_CHILDREN.max()"
   ]
  },
  {
   "cell_type": "code",
   "execution_count": 228,
   "metadata": {},
   "outputs": [],
   "source": [
    "x = pd.cut(all_apps.CNT_CHILDREN, [0,1,5,max_val+ 1], right=False, labels=['No children', '1 to 5', 'More than 5'])"
   ]
  },
  {
   "cell_type": "code",
   "execution_count": 229,
   "metadata": {},
   "outputs": [
    {
     "data": {
      "text/plain": [
       "No children    998783\n",
       "1 to 5         405443\n",
       "More than 5       586\n",
       "Name: CNT_CHILDREN, dtype: int64"
      ]
     },
     "execution_count": 229,
     "metadata": {},
     "output_type": "execute_result"
    }
   ],
   "source": [
    "x.value_counts()"
   ]
  },
  {
   "cell_type": "code",
   "execution_count": 230,
   "metadata": {},
   "outputs": [],
   "source": [
    "all_apps.CNT_CHILDREN = x"
   ]
  },
  {
   "cell_type": "markdown",
   "metadata": {},
   "source": [
    "#### 4.1.3.6. CNT_PAYMENT"
   ]
  },
  {
   "cell_type": "markdown",
   "metadata": {},
   "source": [
    "CNT_PAYMENT column was dropped."
   ]
  },
  {
   "cell_type": "code",
   "execution_count": 231,
   "metadata": {},
   "outputs": [],
   "source": [
    "# all_apps.CNT_PAYMENT.value_counts()"
   ]
  },
  {
   "cell_type": "code",
   "execution_count": 232,
   "metadata": {},
   "outputs": [],
   "source": [
    "# max_val = all_apps.CNT_PAYMENT.max()"
   ]
  },
  {
   "cell_type": "code",
   "execution_count": 233,
   "metadata": {},
   "outputs": [],
   "source": [
    "# max_val"
   ]
  },
  {
   "cell_type": "code",
   "execution_count": 234,
   "metadata": {},
   "outputs": [],
   "source": [
    "# x = pd.cut(all_apps.CNT_PAYMENT, [0,1,10,20,30,40,50,max_val+1], right=False, labels=['0', '1 to 10', '11 to 20', '21 to 30', '31 to 40', '41 to 50', 'More than 50'])"
   ]
  },
  {
   "cell_type": "code",
   "execution_count": 235,
   "metadata": {},
   "outputs": [],
   "source": [
    "# x.value_counts()"
   ]
  },
  {
   "cell_type": "code",
   "execution_count": 236,
   "metadata": {},
   "outputs": [],
   "source": [
    "# all_apps.CNT_PAYMENT = x"
   ]
  },
  {
   "cell_type": "markdown",
   "metadata": {},
   "source": [
    "#### 4.1.3.7. CNT_FAM_MEMBERS"
   ]
  },
  {
   "cell_type": "code",
   "execution_count": 237,
   "metadata": {},
   "outputs": [
    {
     "data": {
      "text/plain": [
       "2.0     743448\n",
       "1.0     300491\n",
       "3.0     231600\n",
       "4.0     110846\n",
       "5.0      16020\n",
       "6.0       1857\n",
       "7.0        388\n",
       "8.0         92\n",
       "9.0         17\n",
       "12.0        16\n",
       "10.0         9\n",
       "20.0         8\n",
       "11.0         6\n",
       "16.0         5\n",
       "14.0         4\n",
       "13.0         3\n",
       "15.0         2\n",
       "Name: CNT_FAM_MEMBERS, dtype: int64"
      ]
     },
     "execution_count": 237,
     "metadata": {},
     "output_type": "execute_result"
    }
   ],
   "source": [
    "all_apps.CNT_FAM_MEMBERS.value_counts()"
   ]
  },
  {
   "cell_type": "code",
   "execution_count": 238,
   "metadata": {},
   "outputs": [],
   "source": [
    "max_val = all_apps.CNT_FAM_MEMBERS.max()"
   ]
  },
  {
   "cell_type": "code",
   "execution_count": 239,
   "metadata": {},
   "outputs": [],
   "source": [
    "x = pd.cut(all_apps.CNT_FAM_MEMBERS, [1,4,8,max_val+1], right=False, labels=['1 to 4', '4 to 8', 'More than 58'])"
   ]
  },
  {
   "cell_type": "code",
   "execution_count": 240,
   "metadata": {},
   "outputs": [
    {
     "data": {
      "text/plain": [
       "1 to 4          1275539\n",
       "4 to 8           129111\n",
       "More than 58        162\n",
       "Name: CNT_FAM_MEMBERS, dtype: int64"
      ]
     },
     "execution_count": 240,
     "metadata": {},
     "output_type": "execute_result"
    }
   ],
   "source": [
    "x.value_counts()"
   ]
  },
  {
   "cell_type": "code",
   "execution_count": 241,
   "metadata": {},
   "outputs": [],
   "source": [
    "all_apps.CNT_FAM_MEMBERS = x"
   ]
  },
  {
   "cell_type": "markdown",
   "metadata": {},
   "source": [
    "#### 4.1.3.8. AMT_REQ_CREDIT_BUREAU_WEEK"
   ]
  },
  {
   "cell_type": "code",
   "execution_count": 242,
   "metadata": {},
   "outputs": [
    {
     "data": {
      "text/plain": [
       "0.0    1196991\n",
       "1.0      43833\n",
       "2.0        991\n",
       "3.0        231\n",
       "4.0        133\n",
       "6.0         60\n",
       "8.0         53\n",
       "5.0         24\n",
       "7.0          6\n",
       "Name: AMT_REQ_CREDIT_BUREAU_WEEK, dtype: int64"
      ]
     },
     "execution_count": 242,
     "metadata": {},
     "output_type": "execute_result"
    }
   ],
   "source": [
    "all_apps.AMT_REQ_CREDIT_BUREAU_WEEK.value_counts()"
   ]
  },
  {
   "cell_type": "code",
   "execution_count": 243,
   "metadata": {},
   "outputs": [],
   "source": [
    "max_val = all_apps.AMT_REQ_CREDIT_BUREAU_WEEK.max()"
   ]
  },
  {
   "cell_type": "code",
   "execution_count": 244,
   "metadata": {},
   "outputs": [],
   "source": [
    "x = pd.cut(all_apps.AMT_REQ_CREDIT_BUREAU_WEEK, [0,1,4,max_val + 1], right=False, labels=['0', '1 to 4', 'More than 4'])"
   ]
  },
  {
   "cell_type": "code",
   "execution_count": 245,
   "metadata": {},
   "outputs": [
    {
     "data": {
      "text/plain": [
       "0              1196991\n",
       "1 to 4           45055\n",
       "More than 4        276\n",
       "Name: AMT_REQ_CREDIT_BUREAU_WEEK, dtype: int64"
      ]
     },
     "execution_count": 245,
     "metadata": {},
     "output_type": "execute_result"
    }
   ],
   "source": [
    "x.value_counts()"
   ]
  },
  {
   "cell_type": "code",
   "execution_count": 246,
   "metadata": {},
   "outputs": [],
   "source": [
    "all_apps.AMT_REQ_CREDIT_BUREAU_WEEK = x"
   ]
  },
  {
   "cell_type": "markdown",
   "metadata": {},
   "source": [
    "#### 4.1.3.9. AMT_REQ_CREDIT_BUREAU_YEAR"
   ]
  },
  {
   "cell_type": "code",
   "execution_count": 247,
   "metadata": {},
   "outputs": [
    {
     "data": {
      "text/plain": [
       "2.0     234942\n",
       "1.0     219001\n",
       "3.0     209383\n",
       "4.0     154458\n",
       "0.0     153603\n",
       "5.0     107483\n",
       "6.0      71495\n",
       "7.0      45988\n",
       "8.0      27394\n",
       "9.0      15844\n",
       "12.0       608\n",
       "11.0       544\n",
       "13.0       362\n",
       "10.0       336\n",
       "17.0       219\n",
       "14.0       205\n",
       "15.0       146\n",
       "18.0        92\n",
       "19.0        71\n",
       "16.0        64\n",
       "20.0        24\n",
       "25.0        23\n",
       "21.0        14\n",
       "22.0        12\n",
       "23.0        11\n",
       "Name: AMT_REQ_CREDIT_BUREAU_YEAR, dtype: int64"
      ]
     },
     "execution_count": 247,
     "metadata": {},
     "output_type": "execute_result"
    }
   ],
   "source": [
    "all_apps.AMT_REQ_CREDIT_BUREAU_YEAR.value_counts()"
   ]
  },
  {
   "cell_type": "code",
   "execution_count": 248,
   "metadata": {},
   "outputs": [
    {
     "data": {
      "text/plain": [
       "1242322"
      ]
     },
     "execution_count": 248,
     "metadata": {},
     "output_type": "execute_result"
    }
   ],
   "source": [
    "all_apps.AMT_REQ_CREDIT_BUREAU_YEAR.count()"
   ]
  },
  {
   "cell_type": "code",
   "execution_count": 249,
   "metadata": {},
   "outputs": [],
   "source": [
    "max_val = all_apps.AMT_REQ_CREDIT_BUREAU_YEAR.max()"
   ]
  },
  {
   "cell_type": "code",
   "execution_count": 250,
   "metadata": {},
   "outputs": [],
   "source": [
    "x = pd.cut(all_apps.AMT_REQ_CREDIT_BUREAU_YEAR, [0,1,4,8,12,max_val + 1], right=False, labels=['0', '1 to 4', '4 to 8', '8 to 12', 'More than 12'])"
   ]
  },
  {
   "cell_type": "code",
   "execution_count": 251,
   "metadata": {},
   "outputs": [
    {
     "data": {
      "text/plain": [
       "1 to 4          663326\n",
       "4 to 8          379424\n",
       "0               153603\n",
       "8 to 12          44118\n",
       "More than 12      1851\n",
       "Name: AMT_REQ_CREDIT_BUREAU_YEAR, dtype: int64"
      ]
     },
     "execution_count": 251,
     "metadata": {},
     "output_type": "execute_result"
    }
   ],
   "source": [
    "x.value_counts()"
   ]
  },
  {
   "cell_type": "code",
   "execution_count": 252,
   "metadata": {},
   "outputs": [],
   "source": [
    "all_apps.AMT_REQ_CREDIT_BUREAU_YEAR = x"
   ]
  },
  {
   "cell_type": "markdown",
   "metadata": {},
   "source": [
    "#### 4.1.3.10. AMT_REQ_CREDIT_BUREAU_HOUR"
   ]
  },
  {
   "cell_type": "code",
   "execution_count": 253,
   "metadata": {},
   "outputs": [
    {
     "data": {
      "text/plain": [
       "0.0    1234901\n",
       "1.0       7155\n",
       "2.0        236\n",
       "3.0         26\n",
       "4.0          4\n",
       "Name: AMT_REQ_CREDIT_BUREAU_HOUR, dtype: int64"
      ]
     },
     "execution_count": 253,
     "metadata": {},
     "output_type": "execute_result"
    }
   ],
   "source": [
    "all_apps.AMT_REQ_CREDIT_BUREAU_HOUR.value_counts()"
   ]
  },
  {
   "cell_type": "code",
   "execution_count": 254,
   "metadata": {},
   "outputs": [],
   "source": [
    "x = pd.cut(all_apps.AMT_REQ_CREDIT_BUREAU_HOUR, [0,1,5], right=False, labels=['0', '1 to 4'])"
   ]
  },
  {
   "cell_type": "code",
   "execution_count": 255,
   "metadata": {},
   "outputs": [
    {
     "data": {
      "text/plain": [
       "0         1234901\n",
       "1 to 4       7421\n",
       "Name: AMT_REQ_CREDIT_BUREAU_HOUR, dtype: int64"
      ]
     },
     "execution_count": 255,
     "metadata": {},
     "output_type": "execute_result"
    }
   ],
   "source": [
    "x.value_counts()"
   ]
  },
  {
   "cell_type": "code",
   "execution_count": 256,
   "metadata": {},
   "outputs": [],
   "source": [
    "all_apps.AMT_REQ_CREDIT_BUREAU_YEAR = x"
   ]
  },
  {
   "cell_type": "markdown",
   "metadata": {},
   "source": [
    "#### 4.1.3.11. AMT_REQ_CREDIT_BUREAU_DAY"
   ]
  },
  {
   "cell_type": "code",
   "execution_count": 257,
   "metadata": {},
   "outputs": [
    {
     "data": {
      "text/plain": [
       "0.0    1235221\n",
       "1.0       6412\n",
       "2.0        374\n",
       "3.0        174\n",
       "4.0         68\n",
       "6.0         28\n",
       "9.0         23\n",
       "5.0         22\n",
       "Name: AMT_REQ_CREDIT_BUREAU_DAY, dtype: int64"
      ]
     },
     "execution_count": 257,
     "metadata": {},
     "output_type": "execute_result"
    }
   ],
   "source": [
    "all_apps.AMT_REQ_CREDIT_BUREAU_DAY.value_counts()"
   ]
  },
  {
   "cell_type": "code",
   "execution_count": 258,
   "metadata": {},
   "outputs": [],
   "source": [
    "max_val = all_apps.AMT_REQ_CREDIT_BUREAU_DAY.max()"
   ]
  },
  {
   "cell_type": "code",
   "execution_count": 259,
   "metadata": {},
   "outputs": [],
   "source": [
    "x = pd.cut(all_apps.AMT_REQ_CREDIT_BUREAU_DAY, [0,1,5, max_val], right=False, labels=['0', '1 to 4', 'More than 5'])"
   ]
  },
  {
   "cell_type": "code",
   "execution_count": 260,
   "metadata": {},
   "outputs": [
    {
     "data": {
      "text/plain": [
       "0              1235221\n",
       "1 to 4            7028\n",
       "More than 5         50\n",
       "Name: AMT_REQ_CREDIT_BUREAU_DAY, dtype: int64"
      ]
     },
     "execution_count": 260,
     "metadata": {},
     "output_type": "execute_result"
    }
   ],
   "source": [
    "x.value_counts()"
   ]
  },
  {
   "cell_type": "code",
   "execution_count": 261,
   "metadata": {},
   "outputs": [],
   "source": [
    "all_apps.AMT_REQ_CREDIT_BUREAU_DAY = x"
   ]
  },
  {
   "cell_type": "markdown",
   "metadata": {},
   "source": [
    "## 5. Imbalance"
   ]
  },
  {
   "cell_type": "code",
   "execution_count": 262,
   "metadata": {},
   "outputs": [
    {
     "data": {
      "text/plain": [
       "0    0.91337\n",
       "1    0.08663\n",
       "Name: TARGET, dtype: float64"
      ]
     },
     "execution_count": 262,
     "metadata": {},
     "output_type": "execute_result"
    }
   ],
   "source": [
    "# Checking for imbalance in the data\n",
    "all_apps.TARGET.value_counts(normalize=True)"
   ]
  },
  {
   "cell_type": "markdown",
   "metadata": {},
   "source": [
    "#### Positive cases of payment difficulty is ~8.7% of the data. This counts as Moderate data imbalance according to <a href=\"https://developers.google.com/machine-learning/data-prep/construct/sampling-splitting/imbalanced-data\">this link</a>.\n",
    "#### This imbalance would need to be corrected when moving to modeling."
   ]
  },
  {
   "cell_type": "markdown",
   "metadata": {},
   "source": [
    "## 6. Analysis"
   ]
  },
  {
   "cell_type": "code",
   "execution_count": 263,
   "metadata": {},
   "outputs": [],
   "source": [
    "# Split the DataFrame into two based on TARGET variable\n",
    "all_apps_no_diff = all_apps[all_apps['TARGET'] == 0]\n",
    "all_apps_diff = all_apps[all_apps['TARGET'] == 1]"
   ]
  },
  {
   "cell_type": "code",
   "execution_count": 264,
   "metadata": {},
   "outputs": [
    {
     "data": {
      "text/plain": [
       "712790    F\n",
       "835244    F\n",
       "835243    F\n",
       "835179    F\n",
       "835178    F\n",
       "         ..\n",
       "316970    M\n",
       "316969    M\n",
       "316968    M\n",
       "317792    M\n",
       "0         M\n",
       "Name: CODE_GENDER, Length: 121699, dtype: object"
      ]
     },
     "execution_count": 264,
     "metadata": {},
     "output_type": "execute_result"
    }
   ],
   "source": [
    "all_apps_diff.CODE_GENDER.sort_values()"
   ]
  },
  {
   "cell_type": "code",
   "execution_count": 265,
   "metadata": {},
   "outputs": [
    {
     "data": {
      "text/plain": [
       "1           F\n",
       "864323      F\n",
       "864324      F\n",
       "864325      F\n",
       "864327      F\n",
       "         ... \n",
       "165609    XNA\n",
       "386919    XNA\n",
       "386918    XNA\n",
       "386916    XNA\n",
       "179210    XNA\n",
       "Name: CODE_GENDER, Length: 1283113, dtype: object"
      ]
     },
     "execution_count": 265,
     "metadata": {},
     "output_type": "execute_result"
    }
   ],
   "source": [
    "all_apps_no_diff.CODE_GENDER.sort_values()"
   ]
  },
  {
   "cell_type": "markdown",
   "metadata": {},
   "source": [
    "### 6.1 Univariate: Categorical"
   ]
  },
  {
   "cell_type": "code",
   "execution_count": 266,
   "metadata": {},
   "outputs": [],
   "source": [
    "# Helper function to plot countplot for Categorical variable\n",
    "no_diff_len = len(all_apps_no_diff)\n",
    "diff_len = len(all_apps_diff)\n",
    "\n",
    "sns.set_theme(style='darkgrid')\n",
    "\n",
    "def plot_countplot(col, readable_name):\n",
    "    fig, (ax1, ax2) = plt.subplots(1,2,figsize=(20, 6))\n",
    "\n",
    "    # all_apps_no_diff[col].sort_values()\n",
    "    # all_apps_diff[col].sort_values()\n",
    "\n",
    "    print(set(all_apps_no_diff[col].values))\n",
    "    order = sorted(set(all_apps_no_diff[col].values))\n",
    "\n",
    "    plt.subplot(1,2,1)\n",
    "    sns.countplot(data=all_apps_no_diff, x=col, ax=ax1, order=order)\n",
    "    ax1.set_ylabel('Count')\n",
    "    ax1.set_xticklabels(ax1.get_xticklabels(), rotation=30, ha='right')\n",
    "    plt.title(f'No payment difficulty - {readable_name}', fontweight='bold', fontsize=16)\n",
    "\n",
    "    # Percentage annotation\n",
    "    for p in ax1.patches:\n",
    "        ax1.annotate('{:.1f}%'.format((p.get_height()/no_diff_len)*100), (p.get_x() + 0.1, p.get_height()))\n",
    "\n",
    "    plt.subplot(1,2,2)\n",
    "    sns.countplot(data=all_apps_diff, x=col, ax=ax2, order=order)\n",
    "    ax2.set_ylabel('Count')\n",
    "    ax2.set_xticklabels(ax2.get_xticklabels(), rotation=30, ha='right')\n",
    "    plt.title(f'Payment difficulty - {readable_name}', fontweight='bold', fontsize=16)\n",
    "    \n",
    "    # Percentage annotation\n",
    "    for p in ax2.patches:\n",
    "        ax2.annotate('{:.1f}%'.format((p.get_height()/diff_len)*100), (p.get_x() + 0.1, p.get_height()))\n",
    "\n",
    "    plt.show()"
   ]
  },
  {
   "cell_type": "code",
   "execution_count": 267,
   "metadata": {},
   "outputs": [],
   "source": [
    "def plot_pies(col, readable_name, show_legend=False):\n",
    "    fig, (ax1, ax2) = plt.subplots(1,2,figsize=(20, 7))\n",
    "\n",
    "    # No difficulty\n",
    "    plt.subplot(1,2,1)\n",
    "    all_apps_no_diff.groupby(col)['TARGET'].count().plot(kind='pie', autopct='%.2f%%')\n",
    "    ax1.set_ylabel('')\n",
    "    if (show_legend):\n",
    "        plt.legend(loc='lower right')\n",
    "    plt.title(f'No payment difficulty - {readable_name}', fontweight='bold', fontsize=16)\n",
    "    \n",
    "    #Difficulty\n",
    "    plt.subplot(1,2,2)\n",
    "    all_apps_diff.groupby(col)['TARGET'].count().plot(kind='pie', autopct='%.2f%%')\n",
    "    ax2.set_ylabel('')\n",
    "    plt.title(f'Payment difficulty - {readable_name}', fontweight='bold', fontsize=16)\n",
    "    if (show_legend):\n",
    "        plt.legend(loc='lower right')\n",
    "\n",
    "    plt.show()"
   ]
  },
  {
   "cell_type": "markdown",
   "metadata": {},
   "source": [
    "#### 6.1.1 Gender"
   ]
  },
  {
   "cell_type": "code",
   "execution_count": 268,
   "metadata": {},
   "outputs": [
    {
     "data": {
      "image/png": "[encoded data removed]",
      "text/plain": [
       "<Figure size 1440x504 with 2 Axes>"
      ]
     },
     "metadata": {},
     "output_type": "display_data"
    }
   ],
   "source": [
    "plot_pies('CODE_GENDER', 'Gender')"
   ]
  },
  {
   "cell_type": "markdown",
   "metadata": {},
   "source": [
    "Number of women is greater than number of men in both cases.<br>\n",
    "However, in terms of ratios, more men tend to have payment difficulties than women."
   ]
  },
  {
   "cell_type": "markdown",
   "metadata": {},
   "source": [
    "#### 6.1.2 Owning car"
   ]
  },
  {
   "cell_type": "code",
   "execution_count": 269,
   "metadata": {},
   "outputs": [
    {
     "data": {
      "image/png": "[encoded data removed]",
      "text/plain": [
       "<Figure size 1440x504 with 2 Axes>"
      ]
     },
     "metadata": {},
     "output_type": "display_data"
    }
   ],
   "source": [
    "plot_pies('FLAG_OWN_CAR', 'Own a car', show_legend=True)"
   ]
  },
  {
   "cell_type": "markdown",
   "metadata": {},
   "source": [
    "More people who do not own a car have payment difficulties than people who own a car.<br>\n",
    "Amongst car owners, the number of people that have payment difficulties is slightly lesser than the number of people who do not."
   ]
  },
  {
   "cell_type": "code",
   "execution_count": 270,
   "metadata": {},
   "outputs": [],
   "source": [
    "# plot_countplot('FLAG_OWN_CAR', 'Own a car')"
   ]
  },
  {
   "cell_type": "markdown",
   "metadata": {},
   "source": [
    "Similarly to gender, more people who own cars seem to apply for loans.<br>\n",
    "More people who own cars have payment difficulties."
   ]
  },
  {
   "cell_type": "markdown",
   "metadata": {},
   "source": [
    "#### 6.1.3 Income type"
   ]
  },
  {
   "cell_type": "code",
   "execution_count": 271,
   "metadata": {},
   "outputs": [],
   "source": [
    "# plot_pies('NAME_INCOME_TYPE', 'Income Type')\n",
    "# Not drawing pie chart in this case due to issue with labels"
   ]
  },
  {
   "cell_type": "code",
   "execution_count": 272,
   "metadata": {},
   "outputs": [
    {
     "name": "stdout",
     "output_type": "stream",
     "text": [
      "{'Unemployed', 'Pensioner', 'Working', 'State servant', 'Commercial associate', 'Student'}\n"
     ]
    },
    {
     "data": {
      "image/png": "[encoded data removed]",
      "text/plain": [
       "<Figure size 1440x432 with 2 Axes>"
      ]
     },
     "metadata": {},
     "output_type": "display_data"
    }
   ],
   "source": [
    "plot_countplot('NAME_INCOME_TYPE', 'Income type')"
   ]
  },
  {
   "cell_type": "markdown",
   "metadata": {},
   "source": [
    "Working class people have more difficulty than any other income type.<br>\n",
    "Some commercial associates and pensioners also have difficulties."
   ]
  },
  {
   "cell_type": "markdown",
   "metadata": {},
   "source": [
    "#### 6.1.4 Own Realty"
   ]
  },
  {
   "cell_type": "code",
   "execution_count": 273,
   "metadata": {},
   "outputs": [
    {
     "data": {
      "image/png": "[encoded data removed]",
      "text/plain": [
       "<Figure size 1440x504 with 2 Axes>"
      ]
     },
     "metadata": {},
     "output_type": "display_data"
    }
   ],
   "source": [
    "plot_pies('FLAG_OWN_REALTY', 'Own House or Flat', show_legend=True)"
   ]
  },
  {
   "cell_type": "markdown",
   "metadata": {},
   "source": [
    "More people who own realty face difficulties in making payments than people who do not own realty.<br>\n",
    "Amongst realty owners, slightly fewer people face payment difficulties."
   ]
  },
  {
   "cell_type": "code",
   "execution_count": 274,
   "metadata": {},
   "outputs": [],
   "source": [
    "# plot_countplot('FLAG_OWN_REALTY')"
   ]
  },
  {
   "cell_type": "markdown",
   "metadata": {},
   "source": [
    "#### 6.1.5 Family status"
   ]
  },
  {
   "cell_type": "code",
   "execution_count": 275,
   "metadata": {},
   "outputs": [
    {
     "data": {
      "image/png": "[encoded data removed]",
      "text/plain": [
       "<Figure size 1440x504 with 2 Axes>"
      ]
     },
     "metadata": {},
     "output_type": "display_data"
    }
   ],
   "source": [
    "plot_pies('NAME_FAMILY_STATUS', 'Family Status')"
   ]
  },
  {
   "cell_type": "markdown",
   "metadata": {},
   "source": [
    "Amongst people with payment difficulties, Married people is the largest group. However, slightly fewer number of married people have payment difficulties.<br>\n",
    "Single people and people with civil marriage tend to have payment difficulties more often than not.<br>\n",
    "For widows and separated people, the reverse is true, possibly because they have been bequeathed money from their former spouse."
   ]
  },
  {
   "cell_type": "code",
   "execution_count": 276,
   "metadata": {},
   "outputs": [],
   "source": [
    "# plot_countplot('NAME_FAMILY_STATUS')"
   ]
  },
  {
   "cell_type": "markdown",
   "metadata": {},
   "source": [
    "#### 6.1.6 Education Type"
   ]
  },
  {
   "cell_type": "code",
   "execution_count": 277,
   "metadata": {},
   "outputs": [],
   "source": [
    "# plot_pies('NAME_EDUCATION_TYPE', 'Education Type', show_legend=True)"
   ]
  },
  {
   "cell_type": "code",
   "execution_count": 278,
   "metadata": {},
   "outputs": [
    {
     "name": "stdout",
     "output_type": "stream",
     "text": [
      "{'Higher education', 'Incomplete higher', 'Secondary / secondary special', 'Lower secondary', 'Academic degree'}\n"
     ]
    },
    {
     "data": {
      "image/png": "[encoded data removed]",
      "text/plain": [
       "<Figure size 1440x432 with 2 Axes>"
      ]
     },
     "metadata": {},
     "output_type": "display_data"
    }
   ],
   "source": [
    "plot_countplot('NAME_EDUCATION_TYPE', 'Education Type')"
   ]
  },
  {
   "cell_type": "markdown",
   "metadata": {},
   "source": [
    "Amongst people with Higher education, fewer people have payment difficulties.<br>\n",
    "People with Secondary education have payment difficulties more than any other group. Amongst people with Secondary education, more people have payment difficulties than not."
   ]
  },
  {
   "cell_type": "markdown",
   "metadata": {},
   "source": [
    "#### 6.1.7 Accompanied by"
   ]
  },
  {
   "cell_type": "code",
   "execution_count": 279,
   "metadata": {},
   "outputs": [],
   "source": [
    "# plot_pies('NAME_TYPE_SUITE', 'Accompanied by')"
   ]
  },
  {
   "cell_type": "code",
   "execution_count": 280,
   "metadata": {},
   "outputs": [
    {
     "name": "stdout",
     "output_type": "stream",
     "text": [
      "{'Other_B', 'Family', 'Unaccompanied', 'Group of people', 'Other_A', 'Children', 'Spouse, partner'}\n"
     ]
    },
    {
     "data": {
      "image/png": "[encoded data removed]",
      "text/plain": [
       "<Figure size 1440x432 with 2 Axes>"
      ]
     },
     "metadata": {},
     "output_type": "display_data"
    }
   ],
   "source": [
    "plot_countplot('NAME_TYPE_SUITE', 'Accompanied by')"
   ]
  },
  {
   "cell_type": "markdown",
   "metadata": {},
   "source": [
    "Unaccompanied people are more likely to have payment difficulties<br>\n",
    "People accompanied by Family are slightly less likely to have payment difficulties"
   ]
  },
  {
   "cell_type": "markdown",
   "metadata": {},
   "source": [
    "#### 6.1.8 Housing type"
   ]
  },
  {
   "cell_type": "code",
   "execution_count": 281,
   "metadata": {},
   "outputs": [],
   "source": [
    "# plot_pies('NAME_HOUSING_TYPE', 'Housing type')"
   ]
  },
  {
   "cell_type": "code",
   "execution_count": 282,
   "metadata": {},
   "outputs": [
    {
     "name": "stdout",
     "output_type": "stream",
     "text": [
      "{'Municipal apartment', 'Co-op apartment', 'House / apartment', 'With parents', 'Office apartment', 'Rented apartment'}\n"
     ]
    },
    {
     "data": {
      "image/png": "[encoded data removed]",
      "text/plain": [
       "<Figure size 1440x432 with 2 Axes>"
      ]
     },
     "metadata": {},
     "output_type": "display_data"
    }
   ],
   "source": [
    "plot_countplot('NAME_HOUSING_TYPE', 'Housing type')"
   ]
  },
  {
   "cell_type": "markdown",
   "metadata": {},
   "source": [
    "People who live with parents are more likely to have payment difficulties.<br>\n",
    "People who live in municipal apartments and rented apartments are slightly more likely to have payment difficulties.<br>\n",
    "The majority of people do not fall under the above categories, and they are less likely to have payment difficulties than not."
   ]
  },
  {
   "cell_type": "markdown",
   "metadata": {},
   "source": [
    "#### 6.1.9 Occupation type"
   ]
  },
  {
   "cell_type": "code",
   "execution_count": 283,
   "metadata": {},
   "outputs": [],
   "source": [
    "# plot_pies('OCCUPATION_TYPE', 'Occupation Type')"
   ]
  },
  {
   "cell_type": "code",
   "execution_count": 284,
   "metadata": {},
   "outputs": [
    {
     "name": "stdout",
     "output_type": "stream",
     "text": [
      "{'Medicine staff', 'High skill tech staff', 'Cooking staff', 'IT staff', 'Sales staff', 'Unknown', 'Core staff', 'Accountants', 'HR staff', 'Managers', 'Low-skill Laborers', 'Drivers', 'Private service staff', 'Security staff', 'Secretaries', 'Laborers', 'Waiters/barmen staff', 'Cleaning staff', 'Realty agents'}\n"
     ]
    },
    {
     "data": {
      "image/png": "[encoded data removed]",
      "text/plain": [
       "<Figure size 1440x432 with 2 Axes>"
      ]
     },
     "metadata": {},
     "output_type": "display_data"
    }
   ],
   "source": [
    "plot_countplot('OCCUPATION_TYPE', 'Occupation Type')"
   ]
  },
  {
   "cell_type": "markdown",
   "metadata": {},
   "source": [
    "People with jobs that pay high salaries i.e., Accountants, Core staff, HR staff, High skill tech staff, IT staff, Managers, Medicine staff, Private service staff are less likely to face payment difficulties.<br>\n",
    "People in other professions that do not pay as well as the above jobs i.e., Cleaning staff, Cooking staff, Drivers, Laborers, Low-skill Laborers, Realty agents, Sales staff, Security staff, Waiters are more likely to face payment difficulties."
   ]
  },
  {
   "cell_type": "markdown",
   "metadata": {},
   "source": [
    "#### 6.1.10 Contract type"
   ]
  },
  {
   "cell_type": "code",
   "execution_count": 287,
   "metadata": {},
   "outputs": [
    {
     "data": {
      "image/png": "[encoded data removed]",
      "text/plain": [
       "<Figure size 1440x504 with 2 Axes>"
      ]
     },
     "metadata": {},
     "output_type": "display_data"
    }
   ],
   "source": [
    "plot_pies('NAME_CONTRACT_TYPE', 'Type of Loan')"
   ]
  },
  {
   "cell_type": "markdown",
   "metadata": {},
   "source": [
    "People who take revolving loans are less likely to face payment difficulties than people who take Cash loans."
   ]
  },
  {
   "cell_type": "markdown",
   "metadata": {},
   "source": []
  },
  {
   "cell_type": "markdown",
   "metadata": {},
   "source": []
  }
 ],
 "metadata": {
  "interpreter": {
   "hash": "b3ba2566441a7c06988d0923437866b63cedc61552a5af99d1f4fb67d367b25f"
  },
  "kernelspec": {
   "display_name": "Python 3.9.7 ('base')",
   "language": "python",
   "name": "python3"
  },
  "language_info": {
   "codemirror_mode": {
    "name": "ipython",
    "version": 3
   },
   "file_extension": ".py",
   "mimetype": "text/x-python",
   "name": "python",
   "nbconvert_exporter": "python",
   "pygments_lexer": "ipython3",
   "version": "3.9.7"
  },
  "orig_nbformat": 4
 },
 "nbformat": 4,
 "nbformat_minor": 2
}
